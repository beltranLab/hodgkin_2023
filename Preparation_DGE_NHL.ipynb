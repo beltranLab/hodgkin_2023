{
 "cells": [
  {
   "cell_type": "code",
   "execution_count": null,
   "id": "ffc07546-aa55-459b-aa81-cba39e377547",
   "metadata": {
    "tags": []
   },
   "outputs": [],
   "source": [
    "sessionInfo()\n",
    "set.seed(1)\n",
    ".libPaths()"
   ]
  },
  {
   "cell_type": "markdown",
   "id": "4a23ac83-7e89-4c04-983c-85ba0c49428c",
   "metadata": {
    "tags": []
   },
   "source": [
    "## Imports"
   ]
  },
  {
   "cell_type": "code",
   "execution_count": null,
   "id": "9f260cb6-c5f3-41ca-9936-df6086dbe9ac",
   "metadata": {
    "collapsed": true,
    "jupyter": {
     "outputs_hidden": true
    },
    "tags": []
   },
   "outputs": [],
   "source": [
    "library(devtools)\n",
    "library(vctrs)\n",
    "library(Seurat)\n",
    "library(dplyr)\n",
    "library(Matrix)\n",
    "library(tidyr)\n",
    "library(limma)\n",
    "library(ggplot2)\n",
    "library(ggthemes)\n",
    "library(patchwork)\n",
    "library(gprofiler2)\n",
    "library(ggrepel)\n",
    "library(scales)\n",
    "library(ggthemes)\n",
    "library(purrr)\n",
    "library(MAST)\n",
    "library(qpcR)\n",
    "library(enrichR)\n",
    "library(harmony)\n",
    "library(Nebulosa)\n",
    "library(celldex)\n",
    "library(ggrastr)\n",
    "library(ggupset)"
   ]
  },
  {
   "cell_type": "markdown",
   "id": "afd32f29-6d8c-4f33-b86b-3547577e439f",
   "metadata": {},
   "source": [
    "## Custom Utility Functions"
   ]
  },
  {
   "cell_type": "markdown",
   "id": "6fff063b-f151-4057-aab9-e8c7b2cbf6d5",
   "metadata": {},
   "source": [
    "The figsize in R is specified in inches, 1 inch = 2.54 cm."
   ]
  },
  {
   "cell_type": "code",
   "execution_count": null,
   "id": "b8b1b184-6674-479a-bc69-a22c1e38c575",
   "metadata": {},
   "outputs": [],
   "source": [
    "set_figsize <- function(width, height){\n",
    "    options(repr.plot.width = width, \n",
    "            repr.plot.height = height)\n",
    "}"
   ]
  },
  {
   "cell_type": "markdown",
   "id": "9149fb91-eeef-4479-bb29-1290d8b23302",
   "metadata": {},
   "source": [
    "# Load in diffuse b cell lymphoma dataset"
   ]
  },
  {
   "cell_type": "code",
   "execution_count": null,
   "id": "df876b02-2e3e-443b-8e80-ac713a223634",
   "metadata": {},
   "outputs": [],
   "source": [
    "counts <- read.table(file = 'pathway/Lymphom/diffuseb/GSE182434_raw_count_matrix.txt.gz')\n",
    "head(counts)"
   ]
  },
  {
   "cell_type": "code",
   "execution_count": null,
   "id": "29cc76f2-b70a-4d2a-97f8-334e13a95640",
   "metadata": {
    "collapsed": true,
    "jupyter": {
     "outputs_hidden": true
    },
    "tags": []
   },
   "outputs": [],
   "source": [
    "colnames(counts) <- counts[1, ]\n",
    "rownames(counts) <- counts[, 1]\n",
    "counts$Gene <- NULL\n",
    "counts <- counts[2:nrow(counts), ]"
   ]
  },
  {
   "cell_type": "code",
   "execution_count": null,
   "id": "2294f300-88e0-4a7f-9c16-450137729dc3",
   "metadata": {
    "collapsed": true,
    "jupyter": {
     "outputs_hidden": true
    },
    "tags": []
   },
   "outputs": [],
   "source": [
    "head(counts)"
   ]
  },
  {
   "cell_type": "code",
   "execution_count": null,
   "id": "540c917e-a884-4c1c-af06-47091ab0a1f7",
   "metadata": {},
   "outputs": [],
   "source": [
    "diffuse_b <- CreateSeuratObject(counts = counts, project = \"diffuseb\", min.cells = 3, min.features = 200)"
   ]
  },
  {
   "cell_type": "code",
   "execution_count": null,
   "id": "d1e62ec3-96a6-44ea-93d8-bfa418e5f0b4",
   "metadata": {},
   "outputs": [],
   "source": [
    "object <- diffuse_b\n",
    "object"
   ]
  },
  {
   "cell_type": "code",
   "execution_count": null,
   "id": "4a2d914c-f174-405c-9fbd-850c9d96e1a1",
   "metadata": {
    "collapsed": true,
    "jupyter": {
     "outputs_hidden": true
    },
    "tags": []
   },
   "outputs": [],
   "source": [
    "# add metadata\n",
    "md <- read.table(file = 'pathway/Lymphom/diffuseb/GSE182434_cell_annotation.txt.gz')\n",
    "colnames(md) <- md[1, ]\n",
    "rownames(md) <- md[, 1]\n",
    "md$ID <- NULL\n",
    "md <- md[2:nrow(md), ]\n",
    "\n",
    "object <- AddMetaData(object = object, metadata = md)\n",
    "object\n",
    "head(object@meta.data)\n",
    "\n",
    "#unique values per column\n",
    "sapply(object@meta.data, function(x) unique(x))"
   ]
  },
  {
   "cell_type": "code",
   "execution_count": null,
   "id": "8b232b9a-9c83-42f6-86dc-6f868a90a102",
   "metadata": {},
   "outputs": [],
   "source": [
    "obj <- object"
   ]
  },
  {
   "cell_type": "code",
   "execution_count": null,
   "id": "c64e550f-105a-4140-bb00-44be713201dd",
   "metadata": {},
   "outputs": [],
   "source": [
    "dir_plots <- './diffuseb/outs/'\n",
    "dir.create(dir_plots)"
   ]
  },
  {
   "cell_type": "markdown",
   "id": "b7e575e9-61ee-4d8e-aa1f-2c99f65d0eb8",
   "metadata": {},
   "source": [
    "# Process the seurat object, construct the umap"
   ]
  },
  {
   "cell_type": "markdown",
   "id": "479f5187-a9c4-46c4-a7c7-aaa03e717b83",
   "metadata": {},
   "source": [
    "## QC"
   ]
  },
  {
   "cell_type": "code",
   "execution_count": null,
   "id": "42c3d44b-8e2e-42c3-b61a-957305783bb7",
   "metadata": {},
   "outputs": [],
   "source": [
    "# The number of features and UMIs (nFeature_RNA and nCount_RNA) are automatically calculated for every object by Seurat.\n",
    "# For non-UMI data, nCount_RNA represents the sum of the non-normalized values within a cell\n",
    "# We calculate the percentage of mitochondrial features here and store it in object metadata as `percent.mito`.\n",
    "# We use raw count data since this represents non-transformed and non-log-normalized counts\n",
    "# The % of UMI mapping to MT-features is a common scRNA-seq QC metric.\n",
    "mito.features <- grep(pattern = \"^MT-\", x = rownames(x = obj), value = TRUE)\n",
    "percent.mito <- Matrix::colSums(x = GetAssayData(object = obj, slot = 'counts')[mito.features, ]) / Matrix::colSums(x = GetAssayData(object = obj, slot = 'counts'))"
   ]
  },
  {
   "cell_type": "code",
   "execution_count": null,
   "id": "17722cd2-98f7-44c8-ab32-c0a9a0747265",
   "metadata": {
    "collapsed": true,
    "jupyter": {
     "outputs_hidden": true
    },
    "tags": []
   },
   "outputs": [],
   "source": [
    "# The [[ operator can add columns to object metadata, and is a great place to stash QC stats\n",
    "obj[['percent.mito']] <- percent.mito\n",
    "plot <- VlnPlot(object = obj, features = c(\"nFeature_RNA\"), ncol = 3, pt.size = 0.000001)\n",
    "l1 <- plot$layers[[1]]\n",
    "l2 <- plot$layers[[2]]\n",
    "\n",
    "plot$layers[[1]] <- l2\n",
    "plot$layers[[2]] <- l1\n",
    "\n",
    "plot\n",
    "\n",
    "plot <- VlnPlot(object = obj, features = c(\"nCount_RNA\"), ncol = 3, pt.size = 0.000001)\n",
    "l1 <- plot$layers[[1]]\n",
    "l2 <- plot$layers[[2]]\n",
    "\n",
    "plot$layers[[1]] <- l2\n",
    "plot$layers[[2]] <- l1\n",
    "\n",
    "plot\n",
    "\n",
    "plot <- VlnPlot(object = obj, features = c(\"percent.mito\"), ncol = 3, pt.size = 0.000001)\n",
    "l1 <- plot$layers[[1]]\n",
    "l2 <- plot$layers[[2]]\n",
    "\n",
    "plot$layers[[1]] <- l2\n",
    "plot$layers[[2]] <- l1\n",
    "\n",
    "plot"
   ]
  },
  {
   "cell_type": "code",
   "execution_count": null,
   "id": "ccd07679-d160-4885-93c8-5a3178299246",
   "metadata": {},
   "outputs": [],
   "source": [
    "obj <- subset(obj, subset = percent.mito < 0.15)"
   ]
  },
  {
   "cell_type": "code",
   "execution_count": null,
   "id": "22c18549-7dc3-47a4-841c-0e568575f59b",
   "metadata": {},
   "outputs": [],
   "source": [
    "obj"
   ]
  },
  {
   "cell_type": "markdown",
   "id": "622f956c-b628-4b44-9199-4b086a9f2ba9",
   "metadata": {},
   "source": [
    "# Integration"
   ]
  },
  {
   "cell_type": "code",
   "execution_count": null,
   "id": "d4efd44a-6890-4681-b02a-ec1d621c4958",
   "metadata": {},
   "outputs": [],
   "source": [
    "obj@meta.data$sample <- obj@meta.data$Sample\n",
    "unique(obj$sample)"
   ]
  },
  {
   "cell_type": "code",
   "execution_count": null,
   "id": "ec8fcf26-f69c-4cca-8533-604579b907a9",
   "metadata": {
    "tags": []
   },
   "outputs": [],
   "source": [
    "Sys.time()\n",
    "obj.list <- SplitObject(obj, split.by = \"sample\")"
   ]
  },
  {
   "cell_type": "code",
   "execution_count": null,
   "id": "4d45f6e8-c411-47d1-ae58-d3d6c3e3306d",
   "metadata": {},
   "outputs": [],
   "source": [
    "markers.remove <- grep(pattern = c(\"^TRAV|^TRBV|^TRGV|^TRDV|^IGKV|^IGLV|^IGHV|^IGHG|^IGK\"),  x = rownames(x = obj), value = TRUE)"
   ]
  },
  {
   "cell_type": "code",
   "execution_count": null,
   "id": "8bdfbe03-6c9b-4ed0-85be-36a182dbeea2",
   "metadata": {
    "tags": []
   },
   "outputs": [],
   "source": [
    "obj.list <- lapply(X = obj.list, FUN = function(x) {\n",
    "    x <- NormalizeData(x)\n",
    "    x <- FindVariableFeatures(x, selection.method = \"vst\", nfeatures = 3000)\n",
    "})\n",
    "\n",
    "for (i in 1:length(obj.list)){\n",
    "     VariableFeatures(obj.list[[i]]) <- VariableFeatures(object = obj.list[[i]])[!(VariableFeatures(object = obj.list[[i]])%in%markers.remove)]\n",
    "}\n",
    "Sys.time()"
   ]
  },
  {
   "cell_type": "code",
   "execution_count": null,
   "id": "cec55020-662c-4fcc-94ef-08c21527cef7",
   "metadata": {
    "tags": []
   },
   "outputs": [],
   "source": [
    "features <- SelectIntegrationFeatures(object.list = obj.list, nfeatures = 2500)"
   ]
  },
  {
   "cell_type": "code",
   "execution_count": null,
   "id": "d57ce1af-955f-4b24-bfcc-073fa52333c0",
   "metadata": {},
   "outputs": [],
   "source": [
    "Sys.time()"
   ]
  },
  {
   "cell_type": "code",
   "execution_count": null,
   "id": "90ee2e32-92e0-4672-bfdc-8ca0c9d555cb",
   "metadata": {},
   "outputs": [],
   "source": [
    "obj.list <- lapply(X = obj.list, FUN = function(x) {\n",
    "    x <- ScaleData(x, features = features, verbose = FALSE)\n",
    "    x <- RunPCA(x, features = features, verbose = FALSE)\n",
    "})\n",
    "Sys.time()"
   ]
  },
  {
   "cell_type": "code",
   "execution_count": null,
   "id": "9e86b1ed-cb9b-4b1e-be13-17568e832af2",
   "metadata": {
    "collapsed": true,
    "jupyter": {
     "outputs_hidden": true
    },
    "tags": []
   },
   "outputs": [],
   "source": [
    "obj.anchors <- FindIntegrationAnchors(object.list = obj.list, anchor.features = features, reduction = \"rpca\")\n",
    "Sys.time()"
   ]
  },
  {
   "cell_type": "code",
   "execution_count": null,
   "id": "be4b2a2c-cd21-424d-9885-894a7e1eadf9",
   "metadata": {
    "collapsed": true,
    "jupyter": {
     "outputs_hidden": true
    },
    "tags": []
   },
   "outputs": [],
   "source": [
    "obj.integrated <- IntegrateData(anchorset = obj.anchors)\n",
    "Sys.time()"
   ]
  },
  {
   "cell_type": "code",
   "execution_count": null,
   "id": "d48f4107-125a-4818-bc4f-d78fa08608ae",
   "metadata": {},
   "outputs": [],
   "source": [
    "obj.integrated"
   ]
  },
  {
   "cell_type": "code",
   "execution_count": null,
   "id": "00032f2f-e6e4-47f5-a835-584a2a5ea005",
   "metadata": {},
   "outputs": [],
   "source": [
    "saveRDS(obj.integrated, file = './diffuseb/object_without_umap_integrated.rds')"
   ]
  },
  {
   "cell_type": "markdown",
   "id": "66bc2bb9-3a64-4ec5-b861-51215e9b181f",
   "metadata": {
    "tags": []
   },
   "source": [
    "# Working with integrated file"
   ]
  },
  {
   "cell_type": "code",
   "execution_count": null,
   "id": "4ceb9af6-c6ea-445f-9b5d-f7a0bb143024",
   "metadata": {},
   "outputs": [],
   "source": [
    "obj.integrated <- ScaleData(obj.integrated, features = VariableFeatures(object = obj.integrated), vars.to.regress = c(\"nCount_RNA\", \"percent.mito\"))\n",
    "obj.integrated <- RunPCA(obj.integrated, features = VariableFeatures(object = obj.integrated))"
   ]
  },
  {
   "cell_type": "code",
   "execution_count": null,
   "id": "10360f41-3c74-437c-bfb1-1e369870926e",
   "metadata": {},
   "outputs": [],
   "source": [
    "default_width <- 11\n",
    "set_figsize(default_width, default_width)"
   ]
  },
  {
   "cell_type": "code",
   "execution_count": null,
   "id": "63c16c87-7925-4f6b-b861-6cf711543cfb",
   "metadata": {},
   "outputs": [],
   "source": [
    "Idents(obj.integrated) <- 'sample'\n",
    "DimPlot(obj.integrated, reduction = 'pca', label = TRUE)"
   ]
  },
  {
   "cell_type": "code",
   "execution_count": null,
   "id": "ae17d8a3-34be-49ec-a749-da60d9f99485",
   "metadata": {},
   "outputs": [],
   "source": [
    "Idents(obj.integrated) <- 'sample'\n",
    "VlnPlot(obj.integrated, \"ACTB\", pt.size = 0)"
   ]
  },
  {
   "cell_type": "code",
   "execution_count": null,
   "id": "92b53884-1ccb-408d-96c7-38d40d20e3d6",
   "metadata": {},
   "outputs": [],
   "source": [
    "# ProjectDim scores each feature in the dataset (including features not included in the PCA) based on their correlation \n",
    "# with the calculated components. Though we don't use this further here, it can be used to identify markers that \n",
    "# are strongly correlated with cellular heterogeneity, but may not have passed through variable feature selection. \n",
    "# The results of the projected PCA can be explored by setting `projected = TRUE`in the functions above\n",
    "obj.integrated <- ProjectDim(object = obj.integrated)"
   ]
  },
  {
   "cell_type": "code",
   "execution_count": null,
   "id": "61c7feaf-32f9-49be-a273-141ad6090140",
   "metadata": {},
   "outputs": [],
   "source": [
    "ElbowPlot(object = obj.integrated, ndims = 50)"
   ]
  },
  {
   "cell_type": "code",
   "execution_count": null,
   "id": "c22322f0-3988-4cca-a41e-2472630b4102",
   "metadata": {
    "collapsed": true,
    "jupyter": {
     "outputs_hidden": true
    },
    "tags": []
   },
   "outputs": [],
   "source": [
    "DimHeatmap(object = obj.integrated, dims = 1, cells = 500, balanced = TRUE)\n",
    "DimHeatmap(object = obj.integrated, dims = 2, cells = 500, balanced = TRUE)\n",
    "DimHeatmap(object = obj.integrated, dims = 3, cells = 500, balanced = TRUE)\n",
    "DimHeatmap(object = obj.integrated, dims = 4, cells = 500, balanced = TRUE)\n",
    "DimHeatmap(object = obj.integrated, dims = 5, cells = 500, balanced = TRUE)\n",
    "DimHeatmap(object = obj.integrated, dims = 6, cells = 500, balanced = TRUE)\n",
    "DimHeatmap(object = obj.integrated, dims = 7, cells = 500, balanced = TRUE)\n",
    "DimHeatmap(object = obj.integrated, dims = 8, cells = 500, balanced = TRUE)\n",
    "DimHeatmap(object = obj.integrated, dims = 9, cells = 500, balanced = TRUE)\n",
    "DimHeatmap(object = obj.integrated, dims = 10, cells = 500, balanced = TRUE)\n",
    "DimHeatmap(object = obj.integrated, dims = 11, cells = 500, balanced = TRUE)\n",
    "DimHeatmap(object = obj.integrated, dims = 12, cells = 500, balanced = TRUE)\n",
    "DimHeatmap(object = obj.integrated, dims = 13, cells = 500, balanced = TRUE)\n",
    "DimHeatmap(object = obj.integrated, dims = 14, cells = 500, balanced = TRUE)\n",
    "DimHeatmap(object = obj.integrated, dims = 15, cells = 500, balanced = TRUE)\n",
    "DimHeatmap(object = obj.integrated, dims = 16, cells = 500, balanced = TRUE)\n",
    "DimHeatmap(object = obj.integrated, dims = 17, cells = 500, balanced = TRUE)\n",
    "DimHeatmap(object = obj.integrated, dims = 18, cells = 500, balanced = TRUE)\n",
    "DimHeatmap(object = obj.integrated, dims = 19, cells = 500, balanced = TRUE)\n",
    "DimHeatmap(object = obj.integrated, dims = 20, cells = 500, balanced = TRUE)"
   ]
  },
  {
   "cell_type": "markdown",
   "id": "7c6030db-fcd1-4bb8-b672-9befa424dd86",
   "metadata": {},
   "source": [
    "# Cluster the cells"
   ]
  },
  {
   "cell_type": "code",
   "execution_count": null,
   "id": "10df8e06-07c4-463d-80d8-438722ea7d85",
   "metadata": {},
   "outputs": [],
   "source": [
    "dim_number <- 30"
   ]
  },
  {
   "cell_type": "code",
   "execution_count": null,
   "id": "20bc7ff6-5867-4e54-8f37-4d82d8e2e499",
   "metadata": {},
   "outputs": [],
   "source": [
    "obj.integrated <- FindNeighbors(object = obj.integrated, dims = 1:dim_number)"
   ]
  },
  {
   "cell_type": "code",
   "execution_count": null,
   "id": "480f85bb-3d3b-417e-aedc-c9e2d45000ec",
   "metadata": {},
   "outputs": [],
   "source": [
    "res <- 0.8"
   ]
  },
  {
   "cell_type": "code",
   "execution_count": null,
   "id": "1ae9ae3d-01f8-452a-bd63-f5655fc75a36",
   "metadata": {},
   "outputs": [],
   "source": [
    "obj.integrated <- FindClusters(object = obj.integrated, resolution = res)"
   ]
  },
  {
   "cell_type": "markdown",
   "id": "6b7b4521-5eb8-453f-b3a6-d12d008eaa21",
   "metadata": {},
   "source": [
    "# Run Non-linear dimensional reduction (UMAP)"
   ]
  },
  {
   "cell_type": "code",
   "execution_count": null,
   "id": "b387b290-4865-40a4-9f66-cb1615a43083",
   "metadata": {
    "collapsed": true,
    "jupyter": {
     "outputs_hidden": true
    },
    "tags": []
   },
   "outputs": [],
   "source": [
    "obj.integrated <- RunUMAP(obj.integrated, dims = 1:dim_number)"
   ]
  },
  {
   "cell_type": "code",
   "execution_count": null,
   "id": "d983c947-5270-4810-b92b-3ec9c8f97ae0",
   "metadata": {},
   "outputs": [],
   "source": [
    "obj <- obj.integrated"
   ]
  },
  {
   "cell_type": "markdown",
   "id": "10091601-3e2a-49d1-9fa4-525e7a9391e9",
   "metadata": {},
   "source": [
    "# Summ up metadata"
   ]
  },
  {
   "cell_type": "code",
   "execution_count": null,
   "id": "063dbfde-642f-4185-add5-b467d63c26ac",
   "metadata": {},
   "outputs": [],
   "source": [
    "colnames(obj@meta.data)"
   ]
  },
  {
   "cell_type": "code",
   "execution_count": null,
   "id": "6e015bcc-a8cf-4bcc-ab90-ba47e069aff9",
   "metadata": {
    "tags": []
   },
   "outputs": [],
   "source": [
    "#look how many samples of tumor and normal in each cluster\n",
    "obj@meta.data$summ_column <- paste0(obj@meta.data$CellType, '_', obj@meta.data$Tissue)\n",
    "data.frame(table(obj@meta.data$summ_column))"
   ]
  },
  {
   "cell_type": "code",
   "execution_count": null,
   "id": "c7b597f4-dc54-4149-8fd4-9278c855f406",
   "metadata": {
    "tags": []
   },
   "outputs": [],
   "source": [
    "#look whether TumorNormal is related to all samples\n",
    "obj@meta.data$summ_column <- paste0(obj@meta.data$Patient, '_', obj@meta.data$TumorNormal)\n",
    "data.frame(table(obj@meta.data$summ_column))"
   ]
  },
  {
   "cell_type": "code",
   "execution_count": null,
   "id": "3f876cf4-7e73-4ed9-a588-46c8a4d8ae20",
   "metadata": {
    "collapsed": true,
    "jupyter": {
     "outputs_hidden": true
    },
    "tags": []
   },
   "outputs": [],
   "source": [
    "#look where the normal and tumor cells are distributed\n",
    "obj@meta.data$summ_column <- paste0(obj@meta.data$CellType, '_', obj@meta.data$Tissue, '_', obj@meta.data$TumorNormal)\n",
    "data.frame(table(obj@meta.data$summ_column))"
   ]
  },
  {
   "cell_type": "code",
   "execution_count": null,
   "id": "8f20c373-8694-4c90-9f49-12b995546060",
   "metadata": {},
   "outputs": [],
   "source": [
    "obj1 <- obj"
   ]
  },
  {
   "cell_type": "code",
   "execution_count": null,
   "id": "8f9d7bb1-7f69-42ae-95b1-6fc3df128628",
   "metadata": {},
   "outputs": [],
   "source": [
    "obj1"
   ]
  },
  {
   "cell_type": "code",
   "execution_count": null,
   "id": "6d457c16-d79d-41cf-af1b-09a3b95253e9",
   "metadata": {},
   "outputs": [],
   "source": [
    "#remove the \"normal\" cells from DLBCL and FL subset:\n",
    "obj@meta.data$summ_column <- paste0(obj@meta.data$Patient, '_', obj@meta.data$TumorNormal)\n",
    "filtering <- unique(obj@meta.data$summ_column)\n",
    "filtering <- filtering[!(filtering %in% c('DLBCL002_Normal', 'FL2_Normal'))]\n",
    "filtering\n",
    "obj <- subset(obj, summ_column %in% filtering)\n",
    "obj"
   ]
  },
  {
   "cell_type": "markdown",
   "id": "a7ecb409-1077-4120-9401-c835f221d9cb",
   "metadata": {
    "tags": []
   },
   "source": [
    "# Plot UMAPs"
   ]
  },
  {
   "cell_type": "code",
   "execution_count": null,
   "id": "2a2341a2-291d-4318-b5f6-24aa4e8ac70c",
   "metadata": {},
   "outputs": [],
   "source": [
    "default_width <- 10"
   ]
  },
  {
   "cell_type": "code",
   "execution_count": null,
   "id": "d4f9dbd8-6378-4fee-99c2-686d62338a75",
   "metadata": {},
   "outputs": [],
   "source": [
    "colnames(obj@meta.data)"
   ]
  },
  {
   "cell_type": "code",
   "execution_count": null,
   "id": "7b2ba237-9a97-4eb0-9526-beda3f0ea7b4",
   "metadata": {},
   "outputs": [],
   "source": [
    "unique(obj$CellType)"
   ]
  },
  {
   "cell_type": "code",
   "execution_count": null,
   "id": "51aac738-f368-4fd4-a99e-79c17273ddb9",
   "metadata": {},
   "outputs": [],
   "source": [
    "obj$Tissue <- factor(obj$Tissue, levels = c('Tonsil', 'FL', 'DLBCL'))\n",
    "obj$CellType <- factor(obj$CellType, levels = c('B cells', 'Plasma cells', 'Monocytes and Macrophages', 'T cells CD4', 'TFH', 'Tregs', 'T cells CD8', 'NK cells', 'Others'))\n",
    "\n",
    "obj@meta.data$Tissue <- factor(obj@meta.data$Tissue, levels = c('Tonsil', 'FL', 'DLBCL'))\n",
    "obj@meta.data$CellType <- factor(obj@meta.data$CellType, levels = c('B cells', 'Plasma cells', 'Monocytes and Macrophages', 'T cells CD4', 'TFH', 'Tregs', 'T cells CD8', 'NK cells', 'Others'))"
   ]
  },
  {
   "cell_type": "code",
   "execution_count": null,
   "id": "18d16224-4ab0-46e2-ad49-5130ed1f3dac",
   "metadata": {
    "collapsed": true,
    "jupyter": {
     "outputs_hidden": true
    },
    "tags": []
   },
   "outputs": [],
   "source": [
    "#plot umaps\n",
    "width <- 10\n",
    "height <- 10\n",
    "set_figsize(width, height)\n",
    "name <- 'umap_all'\n",
    "grouping <- 'CellType'\n",
    "umap_plot <- DimPlot(obj, reduction = 'umap', group.by = grouping, pt.size = 7, label = TRUE, repel  = TRUE, label.size = 7, raster = T, raster.dpi = c(5000, 5000)) + \n",
    "    theme(\n",
    "          text = element_text(size = 20),\n",
    "          axis.text = element_text(size = 20),\n",
    "          plot.title = element_text(size = 20, face = 'plain'),\n",
    "          legend.text=element_text(size=20)) + NoAxes() + NoLegend()\n",
    "print(umap_plot)\n",
    "ggsave(umap_plot, file = paste0(dir_plots, name, '.pdf'), width = width, height = height)\n",
    "\n",
    "umap_plot <- DimPlot(obj, reduction = 'umap', group.by = grouping, pt.size = 7, label = TRUE, repel  = TRUE, label.size = 7, raster = T, raster.dpi = c(5000, 5000)) + \n",
    "    theme(\n",
    "          text = element_text(size = 20),\n",
    "          axis.text = element_text(size = 20),\n",
    "          plot.title = element_text(size = 20, face = 'plain'),\n",
    "          legend.text=element_text(size=20)) + NoAxes()\n",
    "print(umap_plot)\n",
    "ggsave(umap_plot, file = paste0(dir_plots, name, '_withlegend.pdf'), width = width, height = height)\n",
    "\n",
    "name <- 'umap_tissue'\n",
    "grouping <- 'Tissue'\n",
    "umap_plot <- DimPlot(obj, reduction = 'umap', group.by = grouping, pt.size = 7, label = TRUE, repel  = TRUE, cols = c('lightgrey', '#6F0EAD', '#D3556E'), label.size = 7, raster = T, raster.dpi = c(5000, 5000)) + \n",
    "    theme(\n",
    "          text = element_text(size = 20),\n",
    "          axis.text = element_text(size = 20),\n",
    "          plot.title = element_text(size = 20, face = 'plain'),\n",
    "          legend.text=element_text(size=20)) + NoAxes() + NoLegend()\n",
    "print(umap_plot)\n",
    "ggsave(umap_plot, file = paste0(dir_plots, name, '.pdf'), width = width, height = height)\n",
    "\n",
    "umap_plot <- DimPlot(obj, reduction = 'umap', group.by = grouping, pt.size = 7, label = TRUE, repel  = TRUE, cols = c('lightgrey', '#6F0EAD', '#D3556E'), label.size = 7, raster = T, raster.dpi = c(5000, 5000)) + \n",
    "    theme(\n",
    "          text = element_text(size = 20),\n",
    "          axis.text = element_text(size = 20),\n",
    "          plot.title = element_text(size = 20, face = 'plain'),\n",
    "          legend.text=element_text(size=20)) + NoAxes()\n",
    "print(umap_plot)\n",
    "ggsave(umap_plot, file = paste0(dir_plots, name, '_withlegend.pdf'), width = width, height = height)\n",
    "\n",
    "name <- 'umap_tumor_normal'\n",
    "grouping <- 'TumorNormal'\n",
    "umap_plot <- DimPlot(obj, reduction = 'umap', group.by = grouping, pt.size = 7, label = TRUE, repel  = TRUE, label.size = 7, raster = T, raster.dpi = c(5000, 5000)) + \n",
    "    theme(\n",
    "          text = element_text(size = 20),\n",
    "          axis.text = element_text(size = 20),\n",
    "          plot.title = element_text(size = 20, face = 'plain'),\n",
    "          legend.text=element_text(size=20)) + NoAxes() + NoLegend()\n",
    "print(umap_plot)\n",
    "ggsave(umap_plot, file = paste0(dir_plots, name, '.pdf'), width = width, height = height)\n",
    "\n",
    "umap_plot <- DimPlot(obj, reduction = 'umap', group.by = grouping, pt.size = 7, label = TRUE, repel  = TRUE, label.size = 7, raster = T, raster.dpi = c(5000, 5000)) + \n",
    "    theme(\n",
    "          text = element_text(size = 20),\n",
    "          axis.text = element_text(size = 20),\n",
    "          plot.title = element_text(size = 20, face = 'plain'),\n",
    "          legend.text=element_text(size=20)) + NoAxes()\n",
    "print(umap_plot)\n",
    "ggsave(umap_plot, file = paste0(dir_plots, name, '_withlegend.pdf'), width = width, height = height)"
   ]
  },
  {
   "cell_type": "markdown",
   "id": "c1903adb-0bd2-4d7e-8849-d06907a2aa37",
   "metadata": {},
   "source": [
    "## Cell Cycle"
   ]
  },
  {
   "cell_type": "code",
   "execution_count": null,
   "id": "0af902a6-d0be-4fbf-8c87-9f48717fc62b",
   "metadata": {},
   "outputs": [],
   "source": [
    "DefaultAssay(obj) <- 'RNA'"
   ]
  },
  {
   "cell_type": "code",
   "execution_count": null,
   "id": "7494b3be-8bf6-4bc9-86f0-a7146644fa7e",
   "metadata": {},
   "outputs": [],
   "source": [
    "# A list of cell cycle markers, from Tirosh et al, 2015, is loaded with Seurat.  We can\n",
    "# segregate this list into markers of G2/M phase and markers of S phase\n",
    "s.genes <- cc.genes$s.genes\n",
    "g2m.genes <- cc.genes$g2m.genes\n",
    "\n",
    "obj <- CellCycleScoring(obj, s.features = s.genes, g2m.features = g2m.genes, set.ident = TRUE)"
   ]
  },
  {
   "cell_type": "code",
   "execution_count": null,
   "id": "7a99a4c2-d4f2-4975-beee-6148c46345cb",
   "metadata": {},
   "outputs": [],
   "source": [
    "name <- 'umap_cell_phase'\n",
    "grouping <- 'Phase'\n",
    "umap_plot <- DimPlot(obj, reduction = 'umap', group.by = grouping, pt.size = 7, label = TRUE, repel  = TRUE, label.size = 7, raster = T, raster.dpi = c(5000, 5000)) + \n",
    "    theme(\n",
    "          text = element_text(size = 20),\n",
    "          axis.text = element_text(size = 20),\n",
    "          plot.title = element_text(size = 20, face = 'plain'),\n",
    "          legend.text=element_text(size=20)) + NoAxes() + NoLegend()\n",
    "print(umap_plot)\n",
    "ggsave(umap_plot, file = paste0(dir_plots, name, '.pdf'), width = width, height = height)\n",
    "\n",
    "umap_plot <- DimPlot(obj, reduction = 'umap', group.by = grouping, pt.size = 7, label = TRUE, repel  = TRUE, label.size = 7, raster = T, raster.dpi = c(5000, 5000)) + \n",
    "    theme(\n",
    "          text = element_text(size = 20),\n",
    "          axis.text = element_text(size = 20),\n",
    "          plot.title = element_text(size = 20, face = 'plain'),\n",
    "          legend.text=element_text(size=20)) + NoAxes()\n",
    "print(umap_plot)\n",
    "ggsave(umap_plot, file = paste0(dir_plots, name, '_withlegend.pdf'), width = width, height = height)"
   ]
  },
  {
   "cell_type": "code",
   "execution_count": null,
   "id": "08258808-6362-4ce7-96bc-d15c01c2ee2e",
   "metadata": {},
   "outputs": [],
   "source": [
    "set_figsize(default_width, default_width)\n",
    "ggplot(obj@meta.data, aes_string(x=\"CellType\", fill=\"Phase\")) +\n",
    "    geom_bar(position=\"fill\")"
   ]
  },
  {
   "cell_type": "markdown",
   "id": "2e779283-0015-4a62-8251-8a19ac501ec4",
   "metadata": {},
   "source": [
    "## Sample Proportions of Each Cluster"
   ]
  },
  {
   "cell_type": "code",
   "execution_count": null,
   "id": "0ca90022-2361-4c32-b6c2-a5e65ee85513",
   "metadata": {},
   "outputs": [],
   "source": [
    "unique(obj@meta.data$Tissue)"
   ]
  },
  {
   "cell_type": "code",
   "execution_count": null,
   "id": "a12258ca-7e87-4a9a-acb0-d232848f4cd8",
   "metadata": {},
   "outputs": [],
   "source": [
    "set_figsize(1.5*default_width, default_width)\n",
    "\n",
    "df <- obj@meta.data\n",
    "df$clusters <- df$CellType\n",
    "clusters <- unique(df$clusters)\n",
    "dis_state <- 'DLBCL'\n",
    "df$dis <- df$Tissue\n",
    "df$dis <- factor(df$dis, levels = c('Tonsil', 'FL', 'DLBCL'))\n",
    "\n",
    "#determine where are the most cells from HL\n",
    "order_df <- data.frame(matrix(NA, ncol = 2, nrow = length(clusters)))\n",
    "colnames(order_df) <- c('cluster', 'dis')\n",
    "order_df$cluster <- clusters\n",
    "for(i in 1:nrow(order_df)){\n",
    "    order_df$dis[i] <- nrow(filter(df, dis == dis_state & clusters == order_df$cluster[i])) / nrow(filter(df, clusters == order_df$cluster[i]))\n",
    "}\n",
    "\n",
    "order_df <- order_df[order(order_df$dis), ]\n",
    "order_list <- order_df$cluster\n",
    "\n",
    "#order the clusters in the df \n",
    "df$clusters <- factor(df$clusters, levels = order_list)\n",
    "\n",
    "#plot the type of disease state\n",
    "plot <- ggplot(df, aes_string(x=\"clusters\", fill=\"dis\")) +\n",
    "    geom_bar(position=\"fill\") + \n",
    "    theme(\n",
    "        plot.title = element_text(hjust = 0.45),\n",
    "        text = element_text(size=25),\n",
    "        panel.grid.major = element_blank(), panel.grid.minor = element_blank(),\n",
    "        panel.background = element_blank(), axis.line = element_line(colour = \"black\"),\n",
    "        axis.text.x = element_text(angle = 55, vjust = 1, hjust=1, colour = 'black')) +\n",
    "        scale_fill_manual('legend', values = c('lightgrey', '#6F0EAD', '#D3556E'))+ \n",
    "        ylab('Fraction')+\n",
    "    ggtitle(\"Relative\")\n",
    "plot \n",
    "ggsave(plot, file = paste0(dir_plots, 'relative_fraction_percluster.pdf'), width = 1.5*default_width, height = default_width)\n",
    "set_figsize(2*default_width, default_width)\n",
    "\n",
    "\n",
    "\n",
    "\n",
    "#plot per patient\n",
    "#determine colors\n",
    "\n",
    "\n",
    "plot <- ggplot(df, aes_string(x=\"clusters\", fill=\"Patient\")) +\n",
    "    geom_bar(position=\"fill\") + \n",
    "    theme(\n",
    "        plot.title = element_text(hjust = 0.45),\n",
    "        text = element_text(size=25),\n",
    "        panel.grid.major = element_blank(), panel.grid.minor = element_blank(),\n",
    "        panel.background = element_blank(), axis.line = element_line(colour = \"black\"),\n",
    "        axis.text.x = element_text(angle = 55, vjust = 1, hjust=1, colour = 'black')) +\n",
    "        ylab('Fraction') +\n",
    "    ggtitle(\"Relative\")\n",
    "plot \n",
    "ggsave(plot, file = paste0(dir_plots, 'relative_fraction_percluster_patient.pdf'), width = 2*default_width, height = default_width)\n",
    "\n",
    "\n",
    "\n",
    "\n",
    "\n",
    "\n",
    "\n",
    "\n",
    "#plot per disease state\n",
    "set_figsize(1.5*default_width, default_width)\n",
    "\n",
    "#determine the order of clusters by fraction within the disease state\n",
    "order_df <- data.frame(matrix(NA, ncol = 2, nrow = length(clusters)))\n",
    "colnames(order_df) <- c('cluster', 'dis')\n",
    "order_df$cluster <- clusters\n",
    "for(i in 1:nrow(order_df)){\n",
    "    order_df$dis[i] <- nrow(filter(df, dis == dis_state & clusters == order_df$cluster[i])) / nrow(filter(df, dis == dis_state))\n",
    "}\n",
    "\n",
    "order_df <- order_df[order(order_df$dis), ]\n",
    "order_list <- order_df$cluster\n",
    "\n",
    "#order the clusters in the df \n",
    "df$clusters <- factor(df$clusters, levels = order_list)\n",
    "\n",
    "#determine colors\n",
    "c25 <- c(\n",
    "  \"dodgerblue2\", \"#E31A1C\", # red\n",
    "  \"green4\",\n",
    "  \"#6A3D9A\", # purple\n",
    "  \"#FF7F00\", # orange\n",
    "  \"black\", \"gold1\",\n",
    "  \"skyblue2\", \"#FB9A99\", # lt pink\n",
    "  \"palegreen2\",\n",
    "  \"#CAB2D6\", # lt purple\n",
    "  \"#FDBF6F\", # lt orange\n",
    "  \"gray70\", \"khaki2\",\n",
    "  \"maroon\", \"orchid1\", \"deeppink1\", \"blue1\", \"steelblue4\",\n",
    "  \"darkturquoise\", \"green1\", \"yellow4\", \"yellow3\",\n",
    "  \"darkorange4\", \"brown\"\n",
    ")\n",
    "cols <- c25[1:length(clusters)]\n",
    "\n",
    "\n",
    "\n",
    "plot <- ggplot(df, aes_string(x=\"dis\", fill=\"clusters\")) +\n",
    "    geom_bar(position=\"fill\") + \n",
    "    theme(\n",
    "        plot.title = element_text(hjust = 0.45),\n",
    "        text = element_text(size=25),\n",
    "        panel.grid.major = element_blank(), panel.grid.minor = element_blank(),\n",
    "        panel.background = element_blank(), axis.line = element_line(colour = \"black\"),\n",
    "        axis.text.x = element_text(angle = 55, vjust = 1, hjust=1, colour = 'black')) +\n",
    "        ylab('Fraction')+ \n",
    "    #scale_fill_manual('legend', values = cols)+\n",
    "    ggtitle(\"Relative\")\n",
    "plot \n",
    "ggsave(plot, file = paste0(dir_plots, 'relative_fraction_perdis.pdf'), width = 1.5*default_width, height = default_width)"
   ]
  },
  {
   "cell_type": "markdown",
   "id": "b33a86b7-24d2-4be9-bc62-35e29170fba8",
   "metadata": {},
   "source": [
    "# Plot expressionof markers of interest"
   ]
  },
  {
   "cell_type": "code",
   "execution_count": null,
   "id": "342ea74d-936e-45ac-b524-b6930798a741",
   "metadata": {},
   "outputs": [],
   "source": [
    "#build an average heatmap obj\n",
    "obj@meta.data$grouping <- paste0(obj@meta.data$CellType, '_', obj@meta.data$Tissue)\n",
    "\n",
    "obj@meta.data$grouping <- factor(obj@meta.data$grouping, levels = c('B cells_Tonsil', 'B cells_FL', 'B cells_DLBCL', 'Plasma cells_Tonsil', 'Plasma cells_DLBCL', 'Monocytes and Macrophages_DLBCL',\n",
    "                                                                   'T cells CD4_Tonsil', 'T cells CD4_FL', 'T cells CD4_DLBCL', 'TFH_Tonsil', 'TFH_FL', 'TFH_DLBCL', \n",
    "                                                                   'Tregs_Tonsil', 'Tregs_FL', 'Tregs_DLBCL', 'T cells CD8_Tonsil', 'T cells CD8_FL', 'T cells CD8_DLBCL',\n",
    "                                                                   'NK cells_FL', 'NK cells_DLBCL', 'Others_FL', 'Others_DLBCL'))\n",
    "obj$grouping <-  factor(obj$grouping, levels = c('B cells_Tonsil', 'B cells_FL', 'B cells_DLBCL', 'Plasma cells_Tonsil', 'Plasma cells_DLBCL', 'Monocytes and Macrophages_DLBCL',\n",
    "                                                                   'T cells CD4_Tonsil', 'T cells CD4_FL', 'T cells CD4_DLBCL', 'TFH_Tonsil', 'TFH_FL', 'TFH_DLBCL', \n",
    "                                                                   'Tregs_Tonsil', 'Tregs_FL', 'Tregs_DLBCL', 'T cells CD8_Tonsil', 'T cells CD8_FL', 'T cells CD8_DLBCL',\n",
    "                                                                   'NK cells_FL', 'NK cells_DLBCL', 'Others_FL', 'Others_DLBCL'))\n",
    "\n",
    "Idents(obj) <- 'grouping'\n",
    "obj.average <- AverageExpression(obj, assay = \"RNA\", return.seurat = TRUE)\n",
    "levels(obj.average)"
   ]
  },
  {
   "cell_type": "code",
   "execution_count": null,
   "id": "e440e09e-d90f-4c59-9af6-b352f3628e56",
   "metadata": {
    "tags": []
   },
   "outputs": [],
   "source": [
    "#heatmap of markers\n",
    "\n",
    "\n",
    "width <- 18\n",
    "height <- 12\n",
    "name <- 'selcted_markers_hm'\n",
    "options(repr.plot.width = width, repr.plot.height = height)\n",
    "markers <- c('CD86',\n",
    "             'CD19',\n",
    "            'MS4A1',\n",
    "            'CD22')\n",
    "plot <- DoHeatmap(obj.average, features = markers, draw.lines = FALSE, size = 4, raster = FALSE) + coord_equal()+\n",
    "        theme(text = element_text(size = 20, face = \"plain\", colour = 'black'),\n",
    "             axis.text.y=element_text(colour=\"black\", size = 18)) + \n",
    "        scale_fill_gradient2(low = '#2881C1', mid = \"white\", high = \"#A20606\", na.value = 'white')\n",
    "plot\n",
    "ggsave(plot, file = paste0(dir_plots, name, '_coordequal.pdf'), width = width, height = height)\n",
    "\n",
    "plot <- DoHeatmap(obj.average, features = markers, draw.lines = FALSE, size = 5, raster = FALSE) +\n",
    "        theme(text = element_text(size = 20, face = \"plain\", colour = 'black'),\n",
    "             axis.text.y=element_text(colour=\"black\", size = 18)) +\n",
    "        scale_fill_gradient2(low = '#2881C1', mid = \"white\", high = \"#A20606\", na.value = 'white')\n",
    "plot\n",
    "ggsave(plot, file = paste0(dir_plots, name, '_coordunequal.pdf'), width = width, height = height)"
   ]
  },
  {
   "cell_type": "code",
   "execution_count": null,
   "id": "4c954a0a-06ba-48a6-9983-d1c076d02636",
   "metadata": {},
   "outputs": [],
   "source": [
    "saveRDS(obj, file = './diffuseb/obj_umap_clustered.rds')"
   ]
  },
  {
   "cell_type": "markdown",
   "id": "7801ad41-d86d-4743-92e3-6ff7e64c4e09",
   "metadata": {},
   "source": [
    "# DGE Axis: DLBCL vs Tonsil"
   ]
  },
  {
   "cell_type": "code",
   "execution_count": null,
   "id": "24f5cf72-d62c-49fe-afb0-ca72b7af29aa",
   "metadata": {
    "tags": []
   },
   "outputs": [],
   "source": [
    "# type in the parameters\n",
    "dge_dir <- paste0(dir_plots, 'DGE_DLBCL/')\n",
    "dir.create(dge_dir)\n",
    "Idents(obj) <- 'CellType'\n",
    "cluster_of_interest <- levels(obj)\n",
    "group1 <- 'DLBCL'\n",
    "group2 <- 'Tonsil'\n",
    "\n",
    "#create a clustering column for the heatmap\n",
    "obj@meta.data$cluster_dis <- obj@meta.data$grouping\n",
    "levels_hm <- levels(obj@meta.data$grouping)\n",
    "\n",
    "#for subset\n",
    "object <- obj\n",
    "Idents(object) <- 'CellType'\n",
    "levels(object) <- c('B cells', 'Plasma cells', 'Monocytes and Macrophages', 'T cells CD4', 'TFH', 'Tregs', 'T cells CD8', 'NK cells', 'Others')\n",
    "\n",
    "#for dge\n",
    "grouping_dge <- 'Tissue'\n",
    "cutoff_expression <- 0.05 #for the DGE min.pct\n",
    "logfc_cutoff <- 0.02 #for the DGE analysis\n",
    "padj_cutoff <- 0.05 #for the genes coming into the GSEA analysis\n",
    "features <- rownames(object)\n",
    "markers.remove <- grep(pattern = \"^TRAV|^TRBV|^TRGV|^TRDV|^RPL|^RPS|^MT-|^IGKV|^IGLV|^IGHV|^IGH|^IGKC|^TRBC\", x = rownames(object), value = TRUE)\n",
    "features <- features[!(features%in%markers.remove)]\n",
    "\n",
    "#for volcano\n",
    "#colours_diagnosis_groups <- c('#5cadfb', '#1d9d01', '#ff8a01', '#bebebe')\n",
    "colour1 <- '#D3556E'\n",
    "colour2 <- 'lightgrey'\n",
    "number_of_genes <- 20\n",
    "mhc2_genes <- rownames(obj)[grep(rownames(obj), pattern = '^HLA-D')]\n",
    "genes_of_interest_ihb <- c('CD28', 'CTLA4', 'CD80', 'CD86',\n",
    "                      mhc2_genes, 'LAG3',\n",
    "                      'CD274', 'PDCD1LG2', 'PDCD1', #PDL1, PDL2, PD1\n",
    "                      'TNFRSF14', 'BTLA', 'CD160', #HVEM, BTLA, CD150\n",
    "                      'CEACAM1', 'LGALS9', 'HMGB1', 'HAVCR2', #CEACAM1, Galectin9\n",
    "                      'NECTIN2', 'NECTIN3', 'PVR', 'TIGIT', 'CD226') #CD112, CD113, CD155\n",
    "genes_of_interest_act <- c('CD48', 'CD58', 'CD2',\n",
    "                          'TNFSF15', 'TNFRSF25', #TL1 DR3\n",
    "                          'TNFSF18', 'TNFRSF18', #GITRL GITR\n",
    "                           'TNFSF9', 'TNFRSF9', #41BBL 41BB\n",
    "                          'ICOSLG', 'ICOS', \n",
    "                           'TNFSF4', 'TNFRSF4', #OX40L OX40\n",
    "                           'TNFSF8', 'TNFRSF8', #CD30L CD30\n",
    "                            'CD40LG', 'CD40', \n",
    "                           'CD70', 'CD27'\n",
    "                          )\n",
    "\n",
    "\n",
    "#for PEA\n",
    "databases_list <- c('GO_Biological_Process_2021', 'Reactome_2016')\n",
    "\n",
    "#for heatmap\n",
    "object_hm <- obj\n",
    "Idents(object_hm) <- 'cluster_dis'\n",
    "levels(object_hm) <- levels_hm\n",
    "object_av <- AverageExpression(object_hm, assay = \"RNA\", return.seurat = TRUE, verbose = FALSE)\n",
    "\n",
    "de_general_all <- c()\n",
    "\n",
    "#here starts the loop with clusters of interest\n",
    "for(cl in 1:length(cluster_of_interest)){\n",
    "    tissue_types <- unique(filter(obj@meta.data, CellType == cluster_of_interest[cl])[[grouping_dge]])\n",
    "    \n",
    "    if((group1 %in% tissue_types) & (group2 %in% tissue_types)){\n",
    "    #create the dir with output\n",
    "    dir_path <- paste0(dge_dir, cluster_of_interest[cl])\n",
    "    dir.create(dir_path)\n",
    "    \n",
    "    object_dge <- subset(object, idents = cluster_of_interest[cl])\n",
    "    \n",
    "    de_genes <- FindMarkers(object = object_dge, features = features, only.pos = FALSE, group.by = grouping_dge, ident.1 = group1, ident.2 = group2, min.pct = cutoff_expression, logfc.threshold = logfc_cutoff)\n",
    "    de_genes$genes <- rownames(de_genes)\n",
    "    \n",
    "    \n",
    "    #subset positive genes\n",
    "    de_positive <- de_genes[de_genes$avg_log2FC > 0, ]\n",
    "    de_positive <- de_positive[order(-de_positive$avg_log2FC), ]\n",
    "    \n",
    "    #subset negative genes\n",
    "    de_negative <- de_genes[de_genes$avg_log2FC < 0, ]\n",
    "    de_negative <- de_negative[order(de_negative$avg_log2FC), ]\n",
    "    de_genes <- rbind(de_positive, de_negative)\n",
    "    \n",
    "    de_genes$cell.type <- cluster_of_interest[cl]\n",
    "    de_general_all <- rbind(de_general_all, de_genes)\n",
    "    \n",
    "    \n",
    "    #build and save the volcano plot\n",
    "   #or additional genes of interest\n",
    "    additional_markers_ihb <- genes_of_interest_ihb[genes_of_interest_ihb %in% de_genes$genes]\n",
    "    additional_markers_act <- genes_of_interest_act[genes_of_interest_act %in% de_genes$genes]\n",
    "\n",
    "     volcano <- ggplot(de_genes, aes(x = avg_log2FC, y = -log10(p_val_adj))) +\n",
    "        geom_vline(xintercept = 0) +\n",
    "        geom_hline(yintercept = -log10(padj_cutoff), color =\"grey\", linetype =\"dashed\") +\n",
    "        geom_point(data = de_genes,\n",
    "                    color = \"grey\", alpha = 0.5) +\n",
    "        geom_point(data = subset(de_genes, avg_log2FC > 0 & p_val_adj < padj_cutoff)[1:number_of_genes, ],\n",
    "                    fill = colour1, alpha = 1, shape=21, size= 2.5) +\n",
    "        geom_point(data = subset(de_genes, avg_log2FC < 0 & p_val_adj < padj_cutoff)[1:number_of_genes, ],\n",
    "                    fill = colour2, alpha = 1, shape=21, size= 2.5) +\n",
    "        geom_point(data = subset(de_genes, p_val_adj < padj_cutoff & genes %in% additional_markers_act), #iclude activatory genes\n",
    "                    fill = '#2881C1', alpha = 1, shape=21, size= 2.5) +\n",
    "        geom_point(data = subset(de_genes, p_val_adj < padj_cutoff & genes %in% additional_markers_ihb), #include inhibitory genes\n",
    "                    fill = '#9A0000', alpha = 1, shape=21, size= 2.5) +\n",
    "        geom_text_repel(data=rbind(subset(de_genes, avg_log2FC > 0 & p_val_adj < padj_cutoff)[1:number_of_genes, ], subset(de_genes, avg_log2FC < 0 & p_val_adj < padj_cutoff)[1:number_of_genes, ]), max.overlaps = 50, aes(label = genes))+\n",
    "        geom_text_repel(data=subset(de_genes, p_val_adj < padj_cutoff & genes %in% additional_markers_act), max.overlaps = 50, aes(label = genes), colour = '#003366')+\n",
    "        geom_text_repel(data=subset(de_genes, p_val_adj < padj_cutoff & genes %in% additional_markers_ihb), max.overlaps = 50, aes(label = genes), colour = '#9A0000')+\n",
    "        theme_linedraw() +\n",
    "        theme(panel.grid = element_blank(), legend.position = \"none\", \n",
    "              plot.title = element_text(size = 15, hjust = 0.5)) + ggtitle(paste0(group2, ' (left)', ' vs ', group1, ' (right)')) + \n",
    "        xlab(\"log2(average fold change)\") +\n",
    "        ylab(\"-log10(p-value)\")\n",
    "    ggsave(volcano, file = paste0(dir_path, '/', group1, '_vs_', group2, '_volcano_plot.pdf'), height = 6, width = 10)\n",
    "    \n",
    "    #prepare the subset of genes for PEA (filter for p value)\n",
    "    #subset positive genes\n",
    "    de_positive <- de_genes[de_genes$avg_log2FC > 0, ]\n",
    "    de_positive <- de_positive[de_positive$p_val_adj < padj_cutoff, ]\n",
    "    de_positive <- de_positive[order(-de_positive$avg_log2FC), ]\n",
    "    \n",
    "    #subset negative genes\n",
    "    de_negative <- de_genes[de_genes$avg_log2FC < 0, ]\n",
    "    de_negative <- de_negative[de_negative$p_val_adj < padj_cutoff, ]\n",
    "    de_negative <- de_negative[order(de_negative$avg_log2FC), ]\n",
    "    \n",
    "    de_all <- rbind(de_positive, de_negative)\n",
    "    #save the de_all \n",
    "    write.csv(de_all, file = paste0(dir_path, '/', group1,  '_vs_', group2, '_de_list.csv'))\n",
    "    \n",
    "    #top 30 sorted\n",
    "    if(length(de_positive$genes) > number_of_genes){\n",
    "    ordered_genes_plot <- de_positive$genes[1:number_of_genes]\n",
    "    } else {ordered_genes_plot <- de_positive$genes}\n",
    "    \n",
    "    \n",
    "    if(length(ordered_genes_plot) > 0){\n",
    "    heatmap <- DoHeatmap(object_av, features = ordered_genes_plot, draw.lines = FALSE, size = 7, raster = FALSE) + \n",
    "    theme(\n",
    "        text = element_text(size = 19, colour = 'black', face = 'plain'),\n",
    "        axis.text.y = element_text(size = 19, colour = 'black', face = 'plain')) +\n",
    "    scale_fill_gradientn(colors = c(\"#2881C1\", \"white\", \"#D3556E\"))\n",
    "    ggsave(heatmap, file = paste0(dir_path, '/', group1, '_heatmap.pdf'), width = 30, height = 20)\n",
    "    ggsave(heatmap, file = paste0(dir_path, '/', group1, '_heatmap.eps'), width = 30, height = 20)\n",
    "    \n",
    "    heatmap <- DoHeatmap(object_av, features = ordered_genes_plot, draw.lines = FALSE, size = 7, raster = FALSE) + \n",
    "    theme(\n",
    "        text = element_text(size = 19, colour = 'black', face = 'plain'),\n",
    "        axis.text.y = element_text(size = 19, colour = 'black', face = 'plain')) +\n",
    "    scale_fill_gradientn(colors = c(\"#2881C1\", \"white\", \"#D3556E\")) + coord_equal()\n",
    "    ggsave(heatmap, file = paste0(dir_path, '/', group1, '_heatmap_coordequal.pdf'), width = 30, height = 20)\n",
    "    ggsave(heatmap, file = paste0(dir_path, '/', group1, '_heatmap_coordequal.eps'), width = 30, height = 20)\n",
    "    }\n",
    "    \n",
    "\n",
    "    \n",
    "    #top 30 sorted\n",
    "    if(length(de_negative$genes) > number_of_genes){\n",
    "    ordered_genes_plot <- de_negative$genes[1:number_of_genes]\n",
    "    } else {ordered_genes_plot <- de_negative$genes}\n",
    "    \n",
    "    if(length(ordered_genes_plot) > 0){\n",
    "    heatmap <- DoHeatmap(object_av, features = ordered_genes_plot, draw.lines = FALSE, size = 7, raster = FALSE) + \n",
    "    theme(\n",
    "        text = element_text(size = 19, colour = 'black', face = 'plain'),\n",
    "        axis.text.y = element_text(size = 19, colour = 'black', face = 'plain')) +\n",
    "    scale_fill_gradientn(colors = c(\"#2881C1\", \"white\", \"#D3556E\"))\n",
    "    ggsave(heatmap, file = paste0(dir_path, '/', group2, '_heatmap.pdf'), width = 30, height = 20)\n",
    "    ggsave(heatmap, file = paste0(dir_path, '/', group2, '_heatmap.eps'), width = 30, height = 20)\n",
    "    \n",
    "    heatmap <- DoHeatmap(object_av, features = ordered_genes_plot, draw.lines = FALSE, size = 7, raster = FALSE) + \n",
    "    theme(\n",
    "        text = element_text(size = 19, colour = 'black', face = 'plain'),\n",
    "        axis.text.y = element_text(size = 19, colour = 'black', face = 'plain')) +\n",
    "    scale_fill_gradientn(colors = c(\"#2881C1\", \"white\", \"#D3556E\")) + coord_equal()\n",
    "    ggsave(heatmap, file = paste0(dir_path, '/', group2, '_heatmap_coordequal.pdf'), width = 30, height = 20)\n",
    "    ggsave(heatmap, file = paste0(dir_path, '/', group2, '_heatmap_coordequal.eps'), width = 30, height = 20)\n",
    "    }\n",
    "    \n",
    "    #start the enrichr PEA \n",
    "    for(db in 1:length(databases_list)){\n",
    "        enriched <- enrichr(de_positive$gene, databases = databases_list[db])\n",
    "        enriched <- enriched[[1]]\n",
    "        enriched <- enriched[order(-enriched$Adjusted.P.value), ]\n",
    "        enriched$Term <- factor(enriched$Term, levels = unique(enriched$Term))\n",
    "        #save the positive enriched pathways\n",
    "        write.csv(enriched, file = paste0(dir_path, '/', group1, '_', databases_list[db], '_pea_list.csv'))\n",
    "            \n",
    "        \n",
    "        reverselog_trans <- function(base = exp(1)) {\n",
    "            trans <- function(x) -log(x, base)\n",
    "            inv <- function(x) base^(-x)\n",
    "            trans_new(paste0(\"reverselog-\", format(base)), trans, inv,\n",
    "                      log_breaks(base = base),\n",
    "                      domain = c(1e-100, Inf))\n",
    "            }\n",
    "        #2881c1 - for blue\n",
    "        #d3556e - for red\n",
    "        if(nrow(enriched) > 0){\n",
    "        options(repr.plot.width=22, repr.plot.height=11)\n",
    "        if(nrow(enriched) > 20){\n",
    "            plot_positive <- ggplot(enriched[(nrow(enriched)-19):nrow(enriched), ], aes(y=Term, x= Adjusted.P.value))+\n",
    "                geom_vline(xintercept = .05, color = \"grey\", linetype=\"dashed\") +\n",
    "                geom_segment( aes(yend=Term, xend=1), col= \"black\") +\n",
    "                geom_point(shape=21, aes(size = abs(Combined.Score)), fill = colour1) +\n",
    "                scale_x_continuous(trans=reverselog_trans(10))+\n",
    "                scale_size_continuous(range = c(2, 13)) +\n",
    "                theme_tufte()+ xlab(\"p value (adj)\") + ylab(\"\") +\n",
    "                theme(text=element_text(family=\"Helvetica\", size = 26),\n",
    "                  axis.text.x = element_text(angle = 45, hjust = 1), legend.position = \"right\") + ggtitle(paste(group1, databases_list[db]))\n",
    "            } else {\n",
    "            plot_positive <- ggplot(enriched, aes(y=Term, x= Adjusted.P.value))+\n",
    "                geom_vline(xintercept = .05, color = \"grey\", linetype=\"dashed\") +\n",
    "                geom_segment( aes(yend=Term, xend=1), col= \"black\") +\n",
    "                geom_point(shape=21, aes(size = abs(Combined.Score)), fill = colour1) +\n",
    "                scale_x_continuous(trans=reverselog_trans(10))+\n",
    "                scale_size_continuous(range = c(2, 13)) +\n",
    "                theme_tufte()+ xlab(\"p value (adj)\") + ylab(\"\") +\n",
    "                theme(text=element_text(family=\"Helvetica\", size = 26),\n",
    "                  axis.text.x = element_text(angle = 45, hjust = 1), legend.position = \"right\") + ggtitle(paste(group1, databases_list[db]))\n",
    "        }\n",
    "        ggsave(plot_positive, file = paste0(dir_path, '/', group1, '_', databases_list[db], '_PEA.pdf'), width = 30, height = 11)\n",
    "            \n",
    "        #plot the genes\n",
    "        if(nrow(enriched) > 20){ \n",
    "            genes_to_plot <- paste0(x = enriched[(nrow(enriched)-19):nrow(enriched), 'Genes'], ';')\n",
    "            genes_to_plot <- paste(genes_to_plot, collapse = '')\n",
    "            genes_to_plot <- strsplit(genes_to_plot, split = ';')[[1]]\n",
    "            #reverse because of ascending ordering of the enriched table to put the most significant at the beginning\n",
    "            genes_to_plot <- rev(genes_to_plot)\n",
    "            genes_to_plot <- unique(genes_to_plot)\n",
    "            }else{\n",
    "            genes_to_plot <- paste0(x = enriched[, 'Genes'], ';')\n",
    "            genes_to_plot <- paste(genes_to_plot, collapse = '')\n",
    "            genes_to_plot <- strsplit(genes_to_plot, split = ';')[[1]]\n",
    "            genes_to_plot <- rev(genes_to_plot)\n",
    "            genes_to_plot <- unique(genes_to_plot)\n",
    "        }\n",
    "        \n",
    "        if(length(genes_to_plot) > 20){genes_to_plot <- genes_to_plot[1:20]}\n",
    "        heatmap_plot <- DoHeatmap(object_av, features = genes_to_plot, draw.lines = FALSE, raster = FALSE) + theme(text = element_text(size = 20, face = \"bold\")) + scale_fill_gradientn(colors = c(\"#2881C1\", \"white\", \"#D3556E\"))\n",
    "        ggsave(heatmap_plot, file = paste0(dir_path, '/', group1, '_', databases_list[db], '_',  '_HEATMAP_genes', '.pdf'), width = 30, height = 20)\n",
    "        }\n",
    "        \n",
    "        \n",
    "        #perform the enrichment on negative genes\n",
    "        enriched <- enrichr(de_negative$gene, databases = databases_list[db])\n",
    "        enriched <- enriched[[1]]\n",
    "        enriched <- enriched[order(-enriched$Adjusted.P.value), ]\n",
    "        enriched$Term <- factor(enriched$Term, levels = unique(enriched$Term))\n",
    "        #save the negative enriched pathways\n",
    "        write.csv(enriched, file = paste0(dir_path, '/', group2, '_', databases_list[db], '_pea_list.csv'))\n",
    "            \n",
    "        reverselog_trans <- function(base = exp(1)) {\n",
    "            trans <- function(x) -log(x, base)\n",
    "            inv <- function(x) base^(-x)\n",
    "            trans_new(paste0(\"reverselog-\", format(base)), trans, inv,\n",
    "                      log_breaks(base = base),\n",
    "                      domain = c(1e-100, Inf))\n",
    "            }\n",
    "        #2881c1 - for blue\n",
    "        #d3556e - for red\n",
    "        if(nrow(enriched) > 0){\n",
    "        options(repr.plot.width=22, repr.plot.height=11)\n",
    "        if(nrow(enriched) > 20){\n",
    "            plot_negative <- ggplot(enriched[(nrow(enriched)-19):nrow(enriched), ], aes(y=Term, x= Adjusted.P.value))+\n",
    "                geom_vline(xintercept = .05, color = \"grey\", linetype=\"dashed\") +\n",
    "                geom_segment( aes(yend=Term, xend=1), col= \"black\") +\n",
    "                geom_point(shape=21, aes(size = abs(Combined.Score)), fill = colour2) +\n",
    "                scale_x_continuous(trans=reverselog_trans(10))+\n",
    "                scale_size_continuous(range = c(2, 13)) +\n",
    "                theme_tufte()+ xlab(\"p value (adj)\") + ylab(\"\") +\n",
    "                theme(text=element_text(family=\"Helvetica\", size = 26),\n",
    "                  axis.text.x = element_text(angle = 45, hjust = 1), legend.position = \"right\") + ggtitle(paste(group2, databases_list[db]))\n",
    "            } else {\n",
    "            plot_negative <- ggplot(enriched, aes(y=Term, x= Adjusted.P.value))+\n",
    "                geom_vline(xintercept = .05, color = \"grey\", linetype=\"dashed\") +\n",
    "                geom_segment( aes(yend=Term, xend=1), col= \"black\") +\n",
    "                geom_point(shape=21, aes(size = abs(Combined.Score)), fill = colour2) +\n",
    "                scale_x_continuous(trans=reverselog_trans(10))+\n",
    "                scale_size_continuous(range = c(2, 13)) +\n",
    "                theme_tufte()+ xlab(\"p value (adj)\") + ylab(\"\") +\n",
    "                theme(text=element_text(family=\"Helvetica\", size = 26),\n",
    "                  axis.text.x = element_text(angle = 45, hjust = 1), legend.position = \"right\") + ggtitle(paste(group2, databases_list[db]))\n",
    "        }\n",
    "        ggsave(plot_negative, file = paste0(dir_path, '/', group2, '_', databases_list[db], '_PEA','.pdf'), width = 30, height = 11)\n",
    "            \n",
    "        #plot the genes\n",
    "        if(nrow(enriched) > 20){ \n",
    "            genes_to_plot <- paste0(x = enriched[(nrow(enriched)-19):nrow(enriched), 'Genes'], ';')\n",
    "            genes_to_plot <- paste(genes_to_plot, collapse = '')\n",
    "            genes_to_plot <- strsplit(genes_to_plot, split = ';')[[1]]\n",
    "            #reverse because of ascending ordering of the enriched table to put the most significant at the beginning\n",
    "            genes_to_plot <- rev(genes_to_plot)\n",
    "            genes_to_plot <- unique(genes_to_plot)\n",
    "            genes_to_plot\n",
    "            }else{\n",
    "            genes_to_plot <- paste0(x = enriched[, 'Genes'], ';')\n",
    "            genes_to_plot <- paste(genes_to_plot, collapse = '')\n",
    "            genes_to_plot <- strsplit(genes_to_plot, split = ';')[[1]]\n",
    "            genes_to_plot <- rev(genes_to_plot)\n",
    "            genes_to_plot <- unique(genes_to_plot)\n",
    "            genes_to_plot\n",
    "        }\n",
    "        if(length(genes_to_plot) > 20){genes_to_plot <- genes_to_plot[1:20]}\n",
    "        heatmap_plot <- DoHeatmap(object_av, features = genes_to_plot, draw.lines = FALSE, raster = FALSE) + theme(text = element_text(size = 20, face = \"bold\")) + scale_fill_gradientn(colors = c(\"#2881C1\", \"white\", \"#D3556E\"))\n",
    "        ggsave(heatmap_plot, file = paste0(dir_path, '/', group2, '_', databases_list[db], '_HEATMAP_genes', '.pdf'), width = 30, height = 20)\n",
    "        }\n",
    "        }\n",
    "    #end of the einrichr loop\n",
    "}\n",
    "}\n",
    "#end of the clusters loop\n",
    "\n",
    "write.csv(de_general_all, file = paste0(dge_dir, 'de_general_all.csv'))"
   ]
  },
  {
   "cell_type": "markdown",
   "id": "1e062610-b790-4db5-8e79-a852dc6055b4",
   "metadata": {},
   "source": [
    "## Create a heatmap of overall markers FC and p values from inhibitory and activatroy panel"
   ]
  },
  {
   "cell_type": "code",
   "execution_count": null,
   "id": "be7a7128-cbe2-4679-8b7b-88346ae701dc",
   "metadata": {},
   "outputs": [],
   "source": [
    "genes_of_interest_ihb <- c('CD86', 'CD80','CTLA4', \n",
    "                      'HLA-DRA', 'LAG3',\n",
    "                      'CD274', 'PDCD1LG2', 'PDCD1', #PDL1, PDL2, PD1\n",
    "                      'TNFRSF14', 'BTLA', 'CD160', #HVEM, BTLA, CD150\n",
    "                      'CEACAM1', 'LGALS9', 'HMGB1', 'HAVCR2', #CEACAM1, Galectin9\n",
    "                      'NECTIN2', 'NECTIN3', 'PVR', 'TIGIT', 'CD226') #CD112, CD113, CD155\n",
    "genes_of_interest_act <- c(\n",
    "                            'CD86', 'CD80', 'CD28', \n",
    "                            'CD48', 'CD58', 'CD2',\n",
    "                          'TNFSF15', 'TNFRSF25', #TL1 DR3\n",
    "                          'TNFSF18', 'TNFRSF18', #GITRL GITR\n",
    "                           'TNFSF9', 'TNFRSF9', #41BBL 41BB\n",
    "                          'ICOSLG', 'ICOS', \n",
    "                           'TNFSF4', 'TNFRSF4', #OX40L OX40\n",
    "                           'TNFSF8', 'TNFRSF8', #CD30L CD30\n",
    "                            'CD40', 'CD40LG', \n",
    "                           'CD70', 'CD27'\n",
    "                          )"
   ]
  },
  {
   "cell_type": "code",
   "execution_count": null,
   "id": "181bc990-5e14-46ff-8fbd-2ea36903c36d",
   "metadata": {},
   "outputs": [],
   "source": [
    "de_general <- read.csv(file = 'pathway/Lymphom/diffuseb/outs/DGE_DLBCL/de_general_all.csv')"
   ]
  },
  {
   "cell_type": "code",
   "execution_count": null,
   "id": "d9167af8-f27f-44ab-9cd3-e8ba2ee2b9a7",
   "metadata": {
    "tags": []
   },
   "outputs": [],
   "source": [
    "#fill in\n",
    "clusters <- levels(obj)\n",
    "genes <- genes_of_interest_ihb\n",
    "de_output <- de_general\n",
    "\n",
    "\n",
    "#create a data.frame\n",
    "df <- data.frame(matrix(NA, ncol = 2, nrow = length(clusters) * length(genes)))\n",
    "colnames(df) <- c('genes', 'clusters')\n",
    "\n",
    "df_genes <- c()\n",
    "for(i in 1:length(genes)){\n",
    "    repeated_gene <- rep(x = genes[i], times = length(clusters))\n",
    "    df_genes <- c(df_genes, repeated_gene)\n",
    "}\n",
    "\n",
    "df$genes <- df_genes\n",
    "df$clusters <- rep(x = clusters, times = length(genes))\n",
    "df$avg_log2FC <- 0\n",
    "df$p_val_adj <- 1\n",
    "\n",
    "\n",
    "for(i in 1:nrow(df)){\n",
    "    fc <- filter(de_output, cell.type == df$clusters[i] & genes == df$genes[i])$avg_log2FC\n",
    "    pvalue <- filter(de_output, cell.type == df$clusters[i] & genes == df$genes[i])$p_val_adj\n",
    "    if(length(fc) > 0){\n",
    "        df$avg_log2FC[i] <- fc\n",
    "        df$p_val_adj[i] <- pvalue\n",
    "    }\n",
    "}\n",
    "\n",
    "df$p_val_adj[df$p_val_adj > 0.05] <- 1\n",
    "df$avg_log2FC[df$p_val_adj > 0.05] <- 0\n",
    "\n",
    "\n",
    "df$clusters <- factor(df$clusters, levels = clusters)\n",
    "df$genes <- factor(df$genes, levels = rev(genes))\n",
    "\n",
    "df$avg_log2FC[df$avg_log2FC == 0] <- NA"
   ]
  },
  {
   "cell_type": "code",
   "execution_count": null,
   "id": "8491d254-86b5-490e-953e-c8e90f184bee",
   "metadata": {},
   "outputs": [],
   "source": [
    "width <- 10\n",
    "height <- 10\n",
    "name <- 'inhibitory_markers_heatmap_logfc'\n",
    "set_figsize(width, height)\n",
    "plot <- ggplot(df, aes(x = clusters, y = genes, fill = avg_log2FC)) + \n",
    "  geom_tile() + \n",
    "  cowplot::theme_cowplot() + \n",
    "  #grids(linetype = \"dashed\", size = 0.1) +\n",
    "  theme(axis.text.x = element_text(angle = 90, vjust = 0.5, hjust=1)) +\n",
    "  ylab('') +\n",
    "  theme(axis.ticks = element_blank()) +\n",
    "  scale_fill_gradient2(low = '#2881C1', mid = \"white\", high = \"#A20606\", na.value = 'white') + coord_equal()\n",
    "plot\n",
    "ggsave(plot, file=paste0(dge_dir, group1, '_vs_', group2, '_', name, '.pdf'), width = width, height = height)"
   ]
  },
  {
   "cell_type": "code",
   "execution_count": null,
   "id": "731963bb-6efd-456d-a635-c8a6ec4dba09",
   "metadata": {
    "tags": []
   },
   "outputs": [],
   "source": [
    "#fill in activatory panel\n",
    "clusters <- levels(obj)\n",
    "genes <- genes_of_interest_act\n",
    "de_output <- de_general\n",
    "\n",
    "\n",
    "#create a data.frame\n",
    "df <- data.frame(matrix(NA, ncol = 2, nrow = length(clusters) * length(genes)))\n",
    "colnames(df) <- c('genes', 'clusters')\n",
    "\n",
    "df_genes <- c()\n",
    "for(i in 1:length(genes)){\n",
    "    repeated_gene <- rep(x = genes[i], times = length(clusters))\n",
    "    df_genes <- c(df_genes, repeated_gene)\n",
    "}\n",
    "\n",
    "df$genes <- df_genes\n",
    "df$clusters <- rep(x = clusters, times = length(genes))\n",
    "df$avg_log2FC <- 0\n",
    "df$p_val_adj <- 1\n",
    "\n",
    "\n",
    "for(i in 1:nrow(df)){\n",
    "    fc <- filter(de_output, cell.type == df$clusters[i] & genes == df$genes[i])$avg_log2FC\n",
    "    pvalue <- filter(de_output, cell.type == df$clusters[i] & genes == df$genes[i])$p_val_adj\n",
    "    if(length(fc) > 0){\n",
    "        df$avg_log2FC[i] <- fc\n",
    "        df$p_val_adj[i] <- pvalue\n",
    "    }\n",
    "}\n",
    "\n",
    "df$p_val_adj[df$p_val_adj > 0.05] <- 1\n",
    "df$avg_log2FC[df$p_val_adj > 0.05] <- 0\n",
    "\n",
    "df$clusters <- factor(df$clusters, levels = clusters)\n",
    "df$genes <- factor(df$genes, levels = rev(genes))\n",
    "\n",
    "df$avg_log2FC[df$avg_log2FC == 0] <- NA"
   ]
  },
  {
   "cell_type": "code",
   "execution_count": null,
   "id": "0ac0cb3a-d2d5-43df-9606-954940fb4346",
   "metadata": {},
   "outputs": [],
   "source": [
    "width <- 10\n",
    "height <- 10\n",
    "name <- 'activation_markers_heatmap_logfc'\n",
    "set_figsize(width, height)\n",
    "plot <- ggplot(df, aes(x = clusters, y = genes, fill = avg_log2FC)) + \n",
    "  geom_tile() + \n",
    "  cowplot::theme_cowplot() + \n",
    "  #grids(linetype = \"dashed\", size = 0.1) +\n",
    "  theme(axis.text.x = element_text(angle = 90, vjust = 0.5, hjust=1)) +\n",
    "  ylab('') +\n",
    "  theme(axis.ticks = element_blank()) +\n",
    "  scale_fill_gradient2(low = '#2881C1', mid = \"white\", high = \"#A20606\", na.value = 'white') + coord_equal()\n",
    "plot\n",
    "ggsave(plot, file=paste0(dge_dir, group1, '_vs_', group2, '_', name, '.pdf'), width = width, height = height)"
   ]
  },
  {
   "cell_type": "markdown",
   "id": "6a0038de-70fd-4751-ad40-62941e3766f9",
   "metadata": {},
   "source": [
    "# DGE Axis: FL vs Tonsil"
   ]
  },
  {
   "cell_type": "code",
   "execution_count": null,
   "id": "37657c22-5b59-47e5-baa9-4f6e32ff20e3",
   "metadata": {
    "collapsed": true,
    "jupyter": {
     "outputs_hidden": true
    },
    "tags": []
   },
   "outputs": [],
   "source": [
    "# type in the parameters\n",
    "dge_dir <- paste0(dir_plots, 'DGE_FL/')\n",
    "dir.create(dge_dir)\n",
    "Idents(obj) <- 'CellType'\n",
    "cluster_of_interest <- levels(obj)\n",
    "group1 <- 'FL'\n",
    "group2 <- 'Tonsil'\n",
    "\n",
    "#create a clustering column for the heatmap\n",
    "obj@meta.data$cluster_dis <- obj@meta.data$grouping\n",
    "levels_hm <- levels(obj@meta.data$grouping)\n",
    "\n",
    "#for subset\n",
    "object <- obj\n",
    "Idents(object) <- 'CellType'\n",
    "levels(object) <- c('B cells', 'Plasma cells', 'Monocytes and Macrophages', 'T cells CD4', 'TFH', 'Tregs', 'T cells CD8', 'NK cells', 'Others')\n",
    "\n",
    "#for dge\n",
    "grouping_dge <- 'Tissue'\n",
    "cutoff_expression <- 0.05 #for the DGE min.pct\n",
    "logfc_cutoff <- 0.02 #for the DGE analysis\n",
    "padj_cutoff <- 0.05 #for the genes coming into the GSEA analysis\n",
    "features <- rownames(object)\n",
    "markers.remove <- grep(pattern = \"^TRAV|^TRBV|^TRGV|^TRDV|^RPL|^RPS|^MT-|^IGKV|^IGLV|^IGHV|^IGH|^IGKC|^TRBC\", x = rownames(object), value = TRUE)\n",
    "features <- features[!(features%in%markers.remove)]\n",
    "\n",
    "#for volcano\n",
    "#colours_diagnosis_groups <- c('#5cadfb', '#1d9d01', '#ff8a01', '#bebebe')\n",
    "colour1 <- '#6F0EAD'\n",
    "colour2 <- 'lightgrey'\n",
    "number_of_genes <- 20\n",
    "mhc2_genes <- rownames(obj)[grep(rownames(obj), pattern = '^HLA-D')]\n",
    "genes_of_interest_ihb <- c('CD28', 'CTLA4', 'CD80', 'CD86',\n",
    "                      mhc2_genes, 'LAG3',\n",
    "                      'CD274', 'PDCD1LG2', 'PDCD1', #PDL1, PDL2, PD1\n",
    "                      'TNFRSF14', 'BTLA', 'CD160', #HVEM, BTLA, CD150\n",
    "                      'CEACAM1', 'LGALS9', 'HMGB1', 'HAVCR2', #CEACAM1, Galectin9\n",
    "                      'NECTIN2', 'NECTIN3', 'PVR', 'TIGIT', 'CD226') #CD112, CD113, CD155\n",
    "genes_of_interest_act <- c('CD48', 'CD58', 'CD2',\n",
    "                          'TNFSF15', 'TNFRSF25', #TL1 DR3\n",
    "                          'TNFSF18', 'TNFRSF18', #GITRL GITR\n",
    "                           'TNFSF9', 'TNFRSF9', #41BBL 41BB\n",
    "                          'ICOSLG', 'ICOS', \n",
    "                           'TNFSF4', 'TNFRSF4', #OX40L OX40\n",
    "                           'TNFSF8', 'TNFRSF8', #CD30L CD30\n",
    "                            'CD40LG', 'CD40', \n",
    "                           'CD70', 'CD27'\n",
    "                          )\n",
    "\n",
    "\n",
    "#for PEA\n",
    "databases_list <- c('GO_Biological_Process_2021', 'Reactome_2016')\n",
    "\n",
    "#for heatmap\n",
    "object_hm <- obj\n",
    "Idents(object_hm) <- 'cluster_dis'\n",
    "levels(object_hm) <- levels_hm\n",
    "object_av <- AverageExpression(object_hm, assay = \"RNA\", return.seurat = TRUE, verbose = FALSE)\n",
    "\n",
    "de_general_all <- c()\n",
    "\n",
    "#here starts the loop with clusters of interest\n",
    "for(cl in 1:length(cluster_of_interest)){\n",
    "    tissue_types <- unique(filter(obj@meta.data, CellType == cluster_of_interest[cl])[[grouping_dge]])\n",
    "    \n",
    "    if((group1 %in% tissue_types) & (group2 %in% tissue_types)){\n",
    "    #create the dir with output\n",
    "    dir_path <- paste0(dge_dir, cluster_of_interest[cl])\n",
    "    dir.create(dir_path)\n",
    "    \n",
    "    object_dge <- subset(object, idents = cluster_of_interest[cl])\n",
    "    \n",
    "    de_genes <- FindMarkers(object = object_dge, features = features, only.pos = FALSE, group.by = grouping_dge, ident.1 = group1, ident.2 = group2, min.pct = cutoff_expression, logfc.threshold = logfc_cutoff)\n",
    "    de_genes$genes <- rownames(de_genes)\n",
    "    \n",
    "    \n",
    "    #subset positive genes\n",
    "    de_positive <- de_genes[de_genes$avg_log2FC > 0, ]\n",
    "    de_positive <- de_positive[order(-de_positive$avg_log2FC), ]\n",
    "    \n",
    "    #subset negative genes\n",
    "    de_negative <- de_genes[de_genes$avg_log2FC < 0, ]\n",
    "    de_negative <- de_negative[order(de_negative$avg_log2FC), ]\n",
    "    de_genes <- rbind(de_positive, de_negative)\n",
    "    \n",
    "    de_genes$cell.type <- cluster_of_interest[cl]\n",
    "    de_general_all <- rbind(de_general_all, de_genes)\n",
    "    \n",
    "    \n",
    "    #build and save the volcano plot\n",
    "   #or additional genes of interest\n",
    "    additional_markers_ihb <- genes_of_interest_ihb[genes_of_interest_ihb %in% de_genes$genes]\n",
    "    additional_markers_act <- genes_of_interest_act[genes_of_interest_act %in% de_genes$genes]\n",
    "\n",
    "     volcano <- ggplot(de_genes, aes(x = avg_log2FC, y = -log10(p_val_adj))) +\n",
    "        geom_vline(xintercept = 0) +\n",
    "        geom_hline(yintercept = -log10(padj_cutoff), color =\"grey\", linetype =\"dashed\") +\n",
    "        geom_point(data = de_genes,\n",
    "                    color = \"grey\", alpha = 0.5) +\n",
    "        geom_point(data = subset(de_genes, avg_log2FC > 0 & p_val_adj < padj_cutoff)[1:number_of_genes, ],\n",
    "                    fill = colour1, alpha = 1, shape=21, size= 2.5) +\n",
    "        geom_point(data = subset(de_genes, avg_log2FC < 0 & p_val_adj < padj_cutoff)[1:number_of_genes, ],\n",
    "                    fill = colour2, alpha = 1, shape=21, size= 2.5) +\n",
    "        geom_point(data = subset(de_genes, p_val_adj < padj_cutoff & genes %in% additional_markers_act), #iclude activatory genes\n",
    "                    fill = '#2881C1', alpha = 1, shape=21, size= 2.5) +\n",
    "        geom_point(data = subset(de_genes, p_val_adj < padj_cutoff & genes %in% additional_markers_ihb), #include inhibitory genes\n",
    "                    fill = '#9A0000', alpha = 1, shape=21, size= 2.5) +\n",
    "        geom_text_repel(data=rbind(subset(de_genes, avg_log2FC > 0 & p_val_adj < padj_cutoff)[1:number_of_genes, ], subset(de_genes, avg_log2FC < 0 & p_val_adj < padj_cutoff)[1:number_of_genes, ]), max.overlaps = 50, aes(label = genes))+\n",
    "        geom_text_repel(data=subset(de_genes, p_val_adj < padj_cutoff & genes %in% additional_markers_act), max.overlaps = 50, aes(label = genes), colour = '#003366')+\n",
    "        geom_text_repel(data=subset(de_genes, p_val_adj < padj_cutoff & genes %in% additional_markers_ihb), max.overlaps = 50, aes(label = genes), colour = '#9A0000')+\n",
    "        theme_linedraw() +\n",
    "        theme(panel.grid = element_blank(), legend.position = \"none\", \n",
    "              plot.title = element_text(size = 15, hjust = 0.5)) + ggtitle(paste0(group2, ' (left)', ' vs ', group1, ' (right)')) + \n",
    "        xlab(\"log2(average fold change)\") +\n",
    "        ylab(\"-log10(p-value)\")\n",
    "    ggsave(volcano, file = paste0(dir_path, '/', group1, '_vs_', group2, '_volcano_plot.pdf'), height = 6, width = 10)\n",
    "    \n",
    "    #prepare the subset of genes for PEA (filter for p value)\n",
    "    #subset positive genes\n",
    "    de_positive <- de_genes[de_genes$avg_log2FC > 0, ]\n",
    "    de_positive <- de_positive[de_positive$p_val_adj < padj_cutoff, ]\n",
    "    de_positive <- de_positive[order(-de_positive$avg_log2FC), ]\n",
    "    \n",
    "    #subset negative genes\n",
    "    de_negative <- de_genes[de_genes$avg_log2FC < 0, ]\n",
    "    de_negative <- de_negative[de_negative$p_val_adj < padj_cutoff, ]\n",
    "    de_negative <- de_negative[order(de_negative$avg_log2FC), ]\n",
    "    \n",
    "    de_all <- rbind(de_positive, de_negative)\n",
    "    #save the de_all \n",
    "    write.csv(de_all, file = paste0(dir_path, '/', group1,  '_vs_', group2, '_de_list.csv'))\n",
    "    \n",
    "    #top 30 sorted\n",
    "    if(length(de_positive$genes) > number_of_genes){\n",
    "    ordered_genes_plot <- de_positive$genes[1:number_of_genes]\n",
    "    } else {ordered_genes_plot <- de_positive$genes}\n",
    "    \n",
    "    \n",
    "    if(length(ordered_genes_plot) > 0){\n",
    "    heatmap <- DoHeatmap(object_av, features = ordered_genes_plot, draw.lines = FALSE, size = 7, raster = FALSE) + \n",
    "    theme(\n",
    "        text = element_text(size = 19, colour = 'black', face = 'plain'),\n",
    "        axis.text.y = element_text(size = 19, colour = 'black', face = 'plain')) +\n",
    "    scale_fill_gradientn(colors = c(\"#2881C1\", \"white\", \"#D3556E\"))\n",
    "    ggsave(heatmap, file = paste0(dir_path, '/', group1, '_heatmap.pdf'), width = 30, height = 20)\n",
    "    ggsave(heatmap, file = paste0(dir_path, '/', group1, '_heatmap.eps'), width = 30, height = 20)\n",
    "    \n",
    "    heatmap <- DoHeatmap(object_av, features = ordered_genes_plot, draw.lines = FALSE, size = 7, raster = FALSE) + \n",
    "    theme(\n",
    "        text = element_text(size = 19, colour = 'black', face = 'plain'),\n",
    "        axis.text.y = element_text(size = 19, colour = 'black', face = 'plain')) +\n",
    "    scale_fill_gradientn(colors = c(\"#2881C1\", \"white\", \"#D3556E\")) + coord_equal()\n",
    "    ggsave(heatmap, file = paste0(dir_path, '/', group1, '_heatmap_coordequal.pdf'), width = 30, height = 20)\n",
    "    ggsave(heatmap, file = paste0(dir_path, '/', group1, '_heatmap_coordequal.eps'), width = 30, height = 20)\n",
    "    }\n",
    "    \n",
    "\n",
    "    \n",
    "    #top 30 sorted\n",
    "    if(length(de_negative$genes) > number_of_genes){\n",
    "    ordered_genes_plot <- de_negative$genes[1:number_of_genes]\n",
    "    } else {ordered_genes_plot <- de_negative$genes}\n",
    "    \n",
    "    if(length(ordered_genes_plot) > 0){\n",
    "    heatmap <- DoHeatmap(object_av, features = ordered_genes_plot, draw.lines = FALSE, size = 7, raster = FALSE) + \n",
    "    theme(\n",
    "        text = element_text(size = 19, colour = 'black', face = 'plain'),\n",
    "        axis.text.y = element_text(size = 19, colour = 'black', face = 'plain')) +\n",
    "    scale_fill_gradientn(colors = c(\"#2881C1\", \"white\", \"#D3556E\"))\n",
    "    ggsave(heatmap, file = paste0(dir_path, '/', group2, '_heatmap.pdf'), width = 30, height = 20)\n",
    "    ggsave(heatmap, file = paste0(dir_path, '/', group2, '_heatmap.eps'), width = 30, height = 20)\n",
    "    \n",
    "    heatmap <- DoHeatmap(object_av, features = ordered_genes_plot, draw.lines = FALSE, size = 7, raster = FALSE) + \n",
    "    theme(\n",
    "        text = element_text(size = 19, colour = 'black', face = 'plain'),\n",
    "        axis.text.y = element_text(size = 19, colour = 'black', face = 'plain')) +\n",
    "    scale_fill_gradientn(colors = c(\"#2881C1\", \"white\", \"#D3556E\")) + coord_equal()\n",
    "    ggsave(heatmap, file = paste0(dir_path, '/', group2, '_heatmap_coordequal.pdf'), width = 30, height = 20)\n",
    "    ggsave(heatmap, file = paste0(dir_path, '/', group2, '_heatmap_coordequal.eps'), width = 30, height = 20)\n",
    "    }\n",
    "    \n",
    "    #start the enrichr PEA \n",
    "    for(db in 1:length(databases_list)){\n",
    "        enriched <- enrichr(de_positive$gene, databases = databases_list[db])\n",
    "        enriched <- enriched[[1]]\n",
    "        enriched <- enriched[order(-enriched$Adjusted.P.value), ]\n",
    "        enriched$Term <- factor(enriched$Term, levels = unique(enriched$Term))\n",
    "        #save the positive enriched pathways\n",
    "        write.csv(enriched, file = paste0(dir_path, '/', group1, '_', databases_list[db], '_pea_list.csv'))\n",
    "            \n",
    "        \n",
    "        reverselog_trans <- function(base = exp(1)) {\n",
    "            trans <- function(x) -log(x, base)\n",
    "            inv <- function(x) base^(-x)\n",
    "            trans_new(paste0(\"reverselog-\", format(base)), trans, inv,\n",
    "                      log_breaks(base = base),\n",
    "                      domain = c(1e-100, Inf))\n",
    "            }\n",
    "        #2881c1 - for blue\n",
    "        #d3556e - for red\n",
    "        if(nrow(enriched) > 0){\n",
    "        options(repr.plot.width=22, repr.plot.height=11)\n",
    "        if(nrow(enriched) > 20){\n",
    "            plot_positive <- ggplot(enriched[(nrow(enriched)-19):nrow(enriched), ], aes(y=Term, x= Adjusted.P.value))+\n",
    "                geom_vline(xintercept = .05, color = \"grey\", linetype=\"dashed\") +\n",
    "                geom_segment( aes(yend=Term, xend=1), col= \"black\") +\n",
    "                geom_point(shape=21, aes(size = abs(Combined.Score)), fill = colour1) +\n",
    "                scale_x_continuous(trans=reverselog_trans(10))+\n",
    "                scale_size_continuous(range = c(2, 13)) +\n",
    "                theme_tufte()+ xlab(\"p value (adj)\") + ylab(\"\") +\n",
    "                theme(text=element_text(family=\"Helvetica\", size = 26),\n",
    "                  axis.text.x = element_text(angle = 45, hjust = 1), legend.position = \"right\") + ggtitle(paste(group1, databases_list[db]))\n",
    "            } else {\n",
    "            plot_positive <- ggplot(enriched, aes(y=Term, x= Adjusted.P.value))+\n",
    "                geom_vline(xintercept = .05, color = \"grey\", linetype=\"dashed\") +\n",
    "                geom_segment( aes(yend=Term, xend=1), col= \"black\") +\n",
    "                geom_point(shape=21, aes(size = abs(Combined.Score)), fill = colour1) +\n",
    "                scale_x_continuous(trans=reverselog_trans(10))+\n",
    "                scale_size_continuous(range = c(2, 13)) +\n",
    "                theme_tufte()+ xlab(\"p value (adj)\") + ylab(\"\") +\n",
    "                theme(text=element_text(family=\"Helvetica\", size = 26),\n",
    "                  axis.text.x = element_text(angle = 45, hjust = 1), legend.position = \"right\") + ggtitle(paste(group1, databases_list[db]))\n",
    "        }\n",
    "        ggsave(plot_positive, file = paste0(dir_path, '/', group1, '_', databases_list[db], '_PEA.pdf'), width = 30, height = 11)\n",
    "            \n",
    "        #plot the genes\n",
    "        if(nrow(enriched) > 20){ \n",
    "            genes_to_plot <- paste0(x = enriched[(nrow(enriched)-19):nrow(enriched), 'Genes'], ';')\n",
    "            genes_to_plot <- paste(genes_to_plot, collapse = '')\n",
    "            genes_to_plot <- strsplit(genes_to_plot, split = ';')[[1]]\n",
    "            #reverse because of ascending ordering of the enriched table to put the most significant at the beginning\n",
    "            genes_to_plot <- rev(genes_to_plot)\n",
    "            genes_to_plot <- unique(genes_to_plot)\n",
    "            }else{\n",
    "            genes_to_plot <- paste0(x = enriched[, 'Genes'], ';')\n",
    "            genes_to_plot <- paste(genes_to_plot, collapse = '')\n",
    "            genes_to_plot <- strsplit(genes_to_plot, split = ';')[[1]]\n",
    "            genes_to_plot <- rev(genes_to_plot)\n",
    "            genes_to_plot <- unique(genes_to_plot)\n",
    "        }\n",
    "        \n",
    "        if(length(genes_to_plot) > 20){genes_to_plot <- genes_to_plot[1:20]}\n",
    "        heatmap_plot <- DoHeatmap(object_av, features = genes_to_plot, draw.lines = FALSE, raster = FALSE) + theme(text = element_text(size = 20, face = \"bold\")) + scale_fill_gradientn(colors = c(\"#2881C1\", \"white\", \"#D3556E\"))\n",
    "        ggsave(heatmap_plot, file = paste0(dir_path, '/', group1, '_', databases_list[db], '_',  '_HEATMAP_genes', '.pdf'), width = 30, height = 20)\n",
    "        }\n",
    "        \n",
    "        \n",
    "        #perform the enrichment on negative genes\n",
    "        enriched <- enrichr(de_negative$gene, databases = databases_list[db])\n",
    "        enriched <- enriched[[1]]\n",
    "        enriched <- enriched[order(-enriched$Adjusted.P.value), ]\n",
    "        enriched$Term <- factor(enriched$Term, levels = unique(enriched$Term))\n",
    "        #save the negative enriched pathways\n",
    "        write.csv(enriched, file = paste0(dir_path, '/', group2, '_', databases_list[db], '_pea_list.csv'))\n",
    "            \n",
    "        reverselog_trans <- function(base = exp(1)) {\n",
    "            trans <- function(x) -log(x, base)\n",
    "            inv <- function(x) base^(-x)\n",
    "            trans_new(paste0(\"reverselog-\", format(base)), trans, inv,\n",
    "                      log_breaks(base = base),\n",
    "                      domain = c(1e-100, Inf))\n",
    "            }\n",
    "        #2881c1 - for blue\n",
    "        #d3556e - for red\n",
    "        if(nrow(enriched) > 0){\n",
    "        options(repr.plot.width=22, repr.plot.height=11)\n",
    "        if(nrow(enriched) > 20){\n",
    "            plot_negative <- ggplot(enriched[(nrow(enriched)-19):nrow(enriched), ], aes(y=Term, x= Adjusted.P.value))+\n",
    "                geom_vline(xintercept = .05, color = \"grey\", linetype=\"dashed\") +\n",
    "                geom_segment( aes(yend=Term, xend=1), col= \"black\") +\n",
    "                geom_point(shape=21, aes(size = abs(Combined.Score)), fill = colour2) +\n",
    "                scale_x_continuous(trans=reverselog_trans(10))+\n",
    "                scale_size_continuous(range = c(2, 13)) +\n",
    "                theme_tufte()+ xlab(\"p value (adj)\") + ylab(\"\") +\n",
    "                theme(text=element_text(family=\"Helvetica\", size = 26),\n",
    "                  axis.text.x = element_text(angle = 45, hjust = 1), legend.position = \"right\") + ggtitle(paste(group2, databases_list[db]))\n",
    "            } else {\n",
    "            plot_negative <- ggplot(enriched, aes(y=Term, x= Adjusted.P.value))+\n",
    "                geom_vline(xintercept = .05, color = \"grey\", linetype=\"dashed\") +\n",
    "                geom_segment( aes(yend=Term, xend=1), col= \"black\") +\n",
    "                geom_point(shape=21, aes(size = abs(Combined.Score)), fill = colour2) +\n",
    "                scale_x_continuous(trans=reverselog_trans(10))+\n",
    "                scale_size_continuous(range = c(2, 13)) +\n",
    "                theme_tufte()+ xlab(\"p value (adj)\") + ylab(\"\") +\n",
    "                theme(text=element_text(family=\"Helvetica\", size = 26),\n",
    "                  axis.text.x = element_text(angle = 45, hjust = 1), legend.position = \"right\") + ggtitle(paste(group2, databases_list[db]))\n",
    "        }\n",
    "        ggsave(plot_negative, file = paste0(dir_path, '/', group2, '_', databases_list[db], '_PEA','.pdf'), width = 30, height = 11)\n",
    "            \n",
    "        #plot the genes\n",
    "        if(nrow(enriched) > 20){ \n",
    "            genes_to_plot <- paste0(x = enriched[(nrow(enriched)-19):nrow(enriched), 'Genes'], ';')\n",
    "            genes_to_plot <- paste(genes_to_plot, collapse = '')\n",
    "            genes_to_plot <- strsplit(genes_to_plot, split = ';')[[1]]\n",
    "            #reverse because of ascending ordering of the enriched table to put the most significant at the beginning\n",
    "            genes_to_plot <- rev(genes_to_plot)\n",
    "            genes_to_plot <- unique(genes_to_plot)\n",
    "            genes_to_plot\n",
    "            }else{\n",
    "            genes_to_plot <- paste0(x = enriched[, 'Genes'], ';')\n",
    "            genes_to_plot <- paste(genes_to_plot, collapse = '')\n",
    "            genes_to_plot <- strsplit(genes_to_plot, split = ';')[[1]]\n",
    "            genes_to_plot <- rev(genes_to_plot)\n",
    "            genes_to_plot <- unique(genes_to_plot)\n",
    "            genes_to_plot\n",
    "        }\n",
    "        if(length(genes_to_plot) > 20){genes_to_plot <- genes_to_plot[1:20]}\n",
    "        heatmap_plot <- DoHeatmap(object_av, features = genes_to_plot, draw.lines = FALSE, raster = FALSE) + theme(text = element_text(size = 20, face = \"bold\")) + scale_fill_gradientn(colors = c(\"#2881C1\", \"white\", \"#D3556E\"))\n",
    "        ggsave(heatmap_plot, file = paste0(dir_path, '/', group2, '_', databases_list[db], '_HEATMAP_genes', '.pdf'), width = 30, height = 20)\n",
    "        }\n",
    "        }\n",
    "    #end of the einrichr loop\n",
    "}\n",
    "}\n",
    "#end of the clusters loop\n",
    "\n",
    "write.csv(de_general_all, file = paste0(dge_dir, 'de_general_all.csv'))"
   ]
  },
  {
   "cell_type": "markdown",
   "id": "878518cb-237a-4d78-afc4-679d25500598",
   "metadata": {},
   "source": [
    "## Create a heatmap of overall markers FC and p values from inhibitory and activatroy panel"
   ]
  },
  {
   "cell_type": "code",
   "execution_count": null,
   "id": "8928cebb-3092-4524-9a5e-dc6a2b3c3c36",
   "metadata": {},
   "outputs": [],
   "source": [
    "genes_of_interest_ihb <- c('CD86', 'CD80','CTLA4', \n",
    "                      'HLA-DRA', 'LAG3',\n",
    "                      'CD274', 'PDCD1LG2', 'PDCD1', #PDL1, PDL2, PD1\n",
    "                      'TNFRSF14', 'BTLA', 'CD160', #HVEM, BTLA, CD150\n",
    "                      'CEACAM1', 'LGALS9', 'HMGB1', 'HAVCR2', #CEACAM1, Galectin9\n",
    "                      'NECTIN2', 'NECTIN3', 'PVR', 'TIGIT', 'CD226') #CD112, CD113, CD155\n",
    "genes_of_interest_act <- c(\n",
    "                            'CD86', 'CD80', 'CD28', \n",
    "                            'CD48', 'CD58', 'CD2',\n",
    "                          'TNFSF15', 'TNFRSF25', #TL1 DR3\n",
    "                          'TNFSF18', 'TNFRSF18', #GITRL GITR\n",
    "                           'TNFSF9', 'TNFRSF9', #41BBL 41BB\n",
    "                          'ICOSLG', 'ICOS', \n",
    "                           'TNFSF4', 'TNFRSF4', #OX40L OX40\n",
    "                           'TNFSF8', 'TNFRSF8', #CD30L CD30\n",
    "                            'CD40', 'CD40LG', \n",
    "                           'CD70', 'CD27'\n",
    "                          )"
   ]
  },
  {
   "cell_type": "code",
   "execution_count": null,
   "id": "2bae3da1-a1aa-47bb-af90-fbb14d132fe7",
   "metadata": {},
   "outputs": [],
   "source": [
    "de_general <- read.csv(file = 'pathway/Lymphom/diffuseb/outs/DGE_FL/de_general_all.csv')"
   ]
  },
  {
   "cell_type": "code",
   "execution_count": null,
   "id": "d5d9b178-b774-4b7f-95fe-36f983eef820",
   "metadata": {
    "tags": []
   },
   "outputs": [],
   "source": [
    "#fill in\n",
    "clusters <- levels(obj)\n",
    "genes <- genes_of_interest_ihb\n",
    "de_output <- de_general\n",
    "\n",
    "\n",
    "#create a data.frame\n",
    "df <- data.frame(matrix(NA, ncol = 2, nrow = length(clusters) * length(genes)))\n",
    "colnames(df) <- c('genes', 'clusters')\n",
    "\n",
    "df_genes <- c()\n",
    "for(i in 1:length(genes)){\n",
    "    repeated_gene <- rep(x = genes[i], times = length(clusters))\n",
    "    df_genes <- c(df_genes, repeated_gene)\n",
    "}\n",
    "\n",
    "df$genes <- df_genes\n",
    "df$clusters <- rep(x = clusters, times = length(genes))\n",
    "df$avg_log2FC <- 0\n",
    "df$p_val_adj <- 1\n",
    "\n",
    "\n",
    "for(i in 1:nrow(df)){\n",
    "    fc <- filter(de_output, cell.type == df$clusters[i] & genes == df$genes[i])$avg_log2FC\n",
    "    pvalue <- filter(de_output, cell.type == df$clusters[i] & genes == df$genes[i])$p_val_adj\n",
    "    if(length(fc) > 0){\n",
    "        df$avg_log2FC[i] <- fc\n",
    "        df$p_val_adj[i] <- pvalue\n",
    "    }\n",
    "}\n",
    "\n",
    "df$p_val_adj[df$p_val_adj > 0.05] <- 1\n",
    "df$avg_log2FC[df$p_val_adj > 0.05] <- 0\n",
    "\n",
    "\n",
    "df$clusters <- factor(df$clusters, levels = clusters)\n",
    "df$genes <- factor(df$genes, levels = rev(genes))\n",
    "\n",
    "df$avg_log2FC[df$avg_log2FC == 0] <- NA"
   ]
  },
  {
   "cell_type": "code",
   "execution_count": null,
   "id": "5342f5fd-5d6b-44c3-920c-1d5d819b6168",
   "metadata": {},
   "outputs": [],
   "source": [
    "width <- 10\n",
    "height <- 10\n",
    "name <- 'inhibitory_markers_heatmap_logfc'\n",
    "set_figsize(width, height)\n",
    "plot <- ggplot(df, aes(x = clusters, y = genes, fill = avg_log2FC)) + \n",
    "  geom_tile() + \n",
    "  cowplot::theme_cowplot() + \n",
    "  #grids(linetype = \"dashed\", size = 0.1) +\n",
    "  theme(axis.text.x = element_text(angle = 90, vjust = 0.5, hjust=1)) +\n",
    "  ylab('') +\n",
    "  theme(axis.ticks = element_blank()) +\n",
    "  scale_fill_gradient2(low = '#2881C1', mid = \"white\", high = \"#A20606\", na.value = 'white') + coord_equal()\n",
    "plot\n",
    "ggsave(plot, file=paste0(dge_dir, group1, '_vs_', group2, '_', name, '.pdf'), width = width, height = height)"
   ]
  },
  {
   "cell_type": "code",
   "execution_count": null,
   "id": "3faf8a46-8474-437d-8cd7-f11f53eae0f5",
   "metadata": {
    "tags": []
   },
   "outputs": [],
   "source": [
    "#fill in activatory panel\n",
    "clusters <- levels(obj)\n",
    "genes <- genes_of_interest_act\n",
    "de_output <- de_general\n",
    "\n",
    "\n",
    "#create a data.frame\n",
    "df <- data.frame(matrix(NA, ncol = 2, nrow = length(clusters) * length(genes)))\n",
    "colnames(df) <- c('genes', 'clusters')\n",
    "\n",
    "df_genes <- c()\n",
    "for(i in 1:length(genes)){\n",
    "    repeated_gene <- rep(x = genes[i], times = length(clusters))\n",
    "    df_genes <- c(df_genes, repeated_gene)\n",
    "}\n",
    "\n",
    "df$genes <- df_genes\n",
    "df$clusters <- rep(x = clusters, times = length(genes))\n",
    "df$avg_log2FC <- 0\n",
    "df$p_val_adj <- 1\n",
    "\n",
    "\n",
    "for(i in 1:nrow(df)){\n",
    "    fc <- filter(de_output, cell.type == df$clusters[i] & genes == df$genes[i])$avg_log2FC\n",
    "    pvalue <- filter(de_output, cell.type == df$clusters[i] & genes == df$genes[i])$p_val_adj\n",
    "    if(length(fc) > 0){\n",
    "        df$avg_log2FC[i] <- fc\n",
    "        df$p_val_adj[i] <- pvalue\n",
    "    }\n",
    "}\n",
    "\n",
    "df$p_val_adj[df$p_val_adj > 0.05] <- 1\n",
    "df$avg_log2FC[df$p_val_adj > 0.05] <- 0\n",
    "\n",
    "df$clusters <- factor(df$clusters, levels = clusters)\n",
    "df$genes <- factor(df$genes, levels = rev(genes))\n",
    "\n",
    "df$avg_log2FC[df$avg_log2FC == 0] <- NA"
   ]
  },
  {
   "cell_type": "code",
   "execution_count": null,
   "id": "af0eeaa8-cbcd-416a-84da-997c94b075d0",
   "metadata": {},
   "outputs": [],
   "source": [
    "width <- 10\n",
    "height <- 10\n",
    "name <- 'activation_markers_heatmap_logfc'\n",
    "set_figsize(width, height)\n",
    "plot <- ggplot(df, aes(x = clusters, y = genes, fill = avg_log2FC)) + \n",
    "  geom_tile() + \n",
    "  cowplot::theme_cowplot() + \n",
    "  #grids(linetype = \"dashed\", size = 0.1) +\n",
    "  theme(axis.text.x = element_text(angle = 90, vjust = 0.5, hjust=1)) +\n",
    "  ylab('') +\n",
    "  theme(axis.ticks = element_blank()) +\n",
    "  scale_fill_gradient2(low = '#2881C1', mid = \"white\", high = \"#A20606\", na.value = 'white') + coord_equal()\n",
    "plot\n",
    "ggsave(plot, file=paste0(dge_dir, group1, '_vs_', group2, '_', name, '.pdf'), width = width, height = height)"
   ]
  },
  {
   "cell_type": "code",
   "execution_count": null,
   "id": "577cb967-80d1-4ba1-b2f5-b2d48386d542",
   "metadata": {},
   "outputs": [],
   "source": []
  }
 ],
 "metadata": {
  "kernelspec": {
   "display_name": "R 4.0.5 azimuth env",
   "language": "R",
   "name": "ir405"
  },
  "language_info": {
   "codemirror_mode": "r",
   "file_extension": ".r",
   "mimetype": "text/x-r-source",
   "name": "R",
   "pygments_lexer": "r",
   "version": "4.0.5"
  }
 },
 "nbformat": 4,
 "nbformat_minor": 5
}
