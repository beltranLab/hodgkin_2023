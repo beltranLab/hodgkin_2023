{
 "cells": [
  {
   "cell_type": "markdown",
   "id": "413d1c8e-2623-4132-afae-b9554220d8c1",
   "metadata": {},
   "source": [
    "Analysis: Vladyslav Kavaka (vladyslav.kavaka@med.uni-muenchen.de), Eduardo Beltran (eduardo.beltran@med.uni-muenchen.de)\n",
    "Insitute of Clinical Neuroimmunology, LMU, Munich"
   ]
  },
  {
   "cell_type": "code",
   "execution_count": 4,
   "id": "073aa434-843a-4dec-9299-34425eb744b4",
   "metadata": {
    "tags": []
   },
   "outputs": [
    {
     "data": {
      "text/plain": [
       "R version 4.0.5 (2021-03-31)\n",
       "Platform: x86_64-conda-linux-gnu (64-bit)\n",
       "Running under: Ubuntu 18.04.6 LTS\n",
       "\n",
       "Matrix products: default\n",
       "BLAS/LAPACK: /home/INIM/vladyslav.kavaka/miniconda3/envs/azimuth/lib/libopenblasp-r0.3.17.so\n",
       "\n",
       "locale:\n",
       " [1] LC_CTYPE=C.UTF-8    LC_NUMERIC=C        LC_TIME=C          \n",
       " [4] LC_COLLATE=C        LC_MONETARY=C       LC_MESSAGES=C      \n",
       " [7] LC_PAPER=C          LC_NAME=C           LC_ADDRESS=C       \n",
       "[10] LC_TELEPHONE=C      LC_MEASUREMENT=C    LC_IDENTIFICATION=C\n",
       "\n",
       "attached base packages:\n",
       "[1] parallel  stats4    stats     graphics  grDevices utils     datasets \n",
       "[8] methods   base     \n",
       "\n",
       "other attached packages:\n",
       " [1] celldex_1.0.0               Nebulosa_1.0.2             \n",
       " [3] harmony_0.1.0               Rcpp_1.0.8                 \n",
       " [5] enrichR_3.0                 qpcR_1.4-1                 \n",
       " [7] robustbase_0.93-9           rgl_0.108.3                \n",
       " [9] minpack.lm_1.2-1            MASS_7.3-55                \n",
       "[11] MAST_1.16.0                 SingleCellExperiment_1.12.0\n",
       "[13] SummarizedExperiment_1.20.0 Biobase_2.50.0             \n",
       "[15] GenomicRanges_1.42.0        GenomeInfoDb_1.26.4        \n",
       "[17] IRanges_2.24.1              S4Vectors_0.28.1           \n",
       "[19] BiocGenerics_0.36.0         MatrixGenerics_1.2.1       \n",
       "[21] matrixStats_0.61.0          purrr_0.3.4                \n",
       "[23] scales_1.2.1                ggrepel_0.9.1              \n",
       "[25] gprofiler2_0.2.1            patchwork_1.1.2            \n",
       "[27] ggthemes_4.2.4              ggplot2_3.4.0              \n",
       "[29] limma_3.46.0                tidyr_1.1.4                \n",
       "[31] Matrix_1.4-0                dplyr_1.0.7                \n",
       "[33] SeuratObject_4.0.4          Seurat_4.1.0               \n",
       "[35] devtools_2.4.5              usethis_2.1.6              \n",
       "\n",
       "loaded via a namespace (and not attached):\n",
       "  [1] utf8_1.2.2                    reticulate_1.23              \n",
       "  [3] ks_1.13.5                     tidyselect_1.1.1             \n",
       "  [5] RSQLite_2.2.9                 AnnotationDbi_1.52.0         \n",
       "  [7] htmlwidgets_1.5.4             grid_4.0.5                   \n",
       "  [9] Rtsne_0.15                    munsell_0.5.0                \n",
       " [11] codetools_0.2-18              ica_1.0-2                    \n",
       " [13] pbdZMQ_0.3-6                  future_1.23.0                \n",
       " [15] miniUI_0.1.1.1                withr_2.5.0                  \n",
       " [17] colorspace_2.0-3              knitr_1.37                   \n",
       " [19] uuid_1.0-3                    ROCR_1.0-11                  \n",
       " [21] tensor_1.5                    listenv_0.8.0                \n",
       " [23] repr_1.1.4                    GenomeInfoDbData_1.2.4       \n",
       " [25] polyclip_1.10-0               bit64_4.0.5                  \n",
       " [27] parallelly_1.30.0             vctrs_0.5.1                  \n",
       " [29] generics_0.1.1                xfun_0.29                    \n",
       " [31] BiocFileCache_1.14.0          R6_2.5.1                     \n",
       " [33] bitops_1.0-7                  spatstat.utils_2.3-0         \n",
       " [35] cachem_1.0.6                  DelayedArray_0.16.3          \n",
       " [37] assertthat_0.2.1              promises_1.2.0.1             \n",
       " [39] gtable_0.3.1                  globals_0.14.0               \n",
       " [41] processx_3.5.2                goftest_1.2-3                \n",
       " [43] rlang_1.0.6                   splines_4.0.5                \n",
       " [45] lazyeval_0.2.2                spatstat.geom_2.4-0          \n",
       " [47] yaml_2.2.1                    BiocManager_1.30.16          \n",
       " [49] reshape2_1.4.4                abind_1.4-5                  \n",
       " [51] httpuv_1.6.5                  tools_4.0.5                  \n",
       " [53] ellipsis_0.3.2                spatstat.core_2.3-2          \n",
       " [55] RColorBrewer_1.1-3            sessioninfo_1.2.2            \n",
       " [57] ggridges_0.5.3                plyr_1.8.6                   \n",
       " [59] sparseMatrixStats_1.2.1       base64enc_0.1-3              \n",
       " [61] zlibbioc_1.36.0               RCurl_1.98-1.6               \n",
       " [63] ps_1.6.0                      prettyunits_1.1.1            \n",
       " [65] rpart_4.1.16                  deldir_1.0-6                 \n",
       " [67] pbapply_1.5-0                 cowplot_1.1.1                \n",
       " [69] urlchecker_1.0.1              zoo_1.8-9                    \n",
       " [71] cluster_2.1.2                 fs_1.5.2                     \n",
       " [73] magrittr_2.0.3                data.table_1.14.2            \n",
       " [75] scattermore_0.7               lmtest_0.9-39                \n",
       " [77] RANN_2.6.1                    mvtnorm_1.1-3                \n",
       " [79] fitdistrplus_1.1-6            pkgload_1.3.2                \n",
       " [81] mime_0.12                     evaluate_0.14                \n",
       " [83] xtable_1.8-4                  mclust_5.4.9                 \n",
       " [85] gridExtra_2.3                 compiler_4.0.5               \n",
       " [87] tibble_3.1.8                  KernSmooth_2.23-20           \n",
       " [89] crayon_1.4.2                  htmltools_0.5.2              \n",
       " [91] mgcv_1.8-38                   later_1.2.0                  \n",
       " [93] DBI_1.1.2                     ExperimentHub_1.16.1         \n",
       " [95] dbplyr_2.1.1                  rappdirs_0.3.3               \n",
       " [97] cli_3.4.1                     igraph_1.2.11                \n",
       " [99] pkgconfig_2.0.3               pkgdown_2.0.6                \n",
       "[101] IRdisplay_1.1                 plotly_4.10.0                \n",
       "[103] spatstat.sparse_2.1-0         XVector_0.30.0               \n",
       "[105] stringr_1.4.0                 callr_3.7.0                  \n",
       "[107] digest_0.6.29                 sctransform_0.3.3            \n",
       "[109] RcppAnnoy_0.0.19              pracma_2.3.8                 \n",
       "[111] spatstat.data_2.1-2           leiden_0.3.9                 \n",
       "[113] uwot_0.1.11                   DelayedMatrixStats_1.12.3    \n",
       "[115] curl_4.3.2                    shiny_1.7.1                  \n",
       "[117] rjson_0.2.21                  lifecycle_1.0.3              \n",
       "[119] nlme_3.1-152                  jsonlite_1.7.2               \n",
       "[121] viridisLite_0.4.1             fansi_1.0.3                  \n",
       "[123] pillar_1.8.1                  lattice_0.20-45              \n",
       "[125] fastmap_1.1.0                 httr_1.4.2                   \n",
       "[127] DEoptimR_1.0-10               pkgbuild_1.3.1               \n",
       "[129] survival_3.2-13               interactiveDisplayBase_1.28.0\n",
       "[131] glue_1.6.2                    remotes_2.4.2                \n",
       "[133] png_0.1-7                     BiocVersion_3.12.0           \n",
       "[135] bit_4.0.4                     stringi_1.7.6                \n",
       "[137] profvis_0.3.7                 blob_1.2.2                   \n",
       "[139] AnnotationHub_2.22.1          memoise_2.0.1                \n",
       "[141] IRkernel_1.3                  irlba_2.3.5                  \n",
       "[143] future.apply_1.8.1           "
      ]
     },
     "metadata": {},
     "output_type": "display_data"
    }
   ],
   "source": [
    "sessionInfo()\n",
    "set.seed(1)"
   ]
  },
  {
   "cell_type": "markdown",
   "id": "b015c39f-c0ab-46cf-8e78-4763ac89e60a",
   "metadata": {
    "tags": []
   },
   "source": [
    "## Imports"
   ]
  },
  {
   "cell_type": "code",
   "execution_count": 2,
   "id": "f1d115d1-5d2c-497d-b18d-e0907cd26476",
   "metadata": {
    "tags": []
   },
   "outputs": [],
   "source": [
    "library(devtools)\n",
    "library(Seurat)\n",
    "library(dplyr)\n",
    "library(Matrix)\n",
    "library(tidyr)\n",
    "library(limma)\n",
    "library(ggplot2)\n",
    "library(ggthemes)\n",
    "library(patchwork)\n",
    "library(gprofiler2)\n",
    "library(ggrepel)\n",
    "library(scales)\n",
    "library(ggthemes)\n",
    "library(purrr)\n",
    "library(MAST)\n",
    "library(qpcR)\n",
    "library(enrichR)\n",
    "library(harmony)\n",
    "library(Nebulosa)\n",
    "library(celldex)"
   ]
  },
  {
   "cell_type": "markdown",
   "id": "6a79d08e-8a32-43ef-884f-fe81d7ca99d5",
   "metadata": {},
   "source": [
    "## Custom Utility Functions"
   ]
  },
  {
   "cell_type": "markdown",
   "id": "fdee8e52-f57e-4853-8e54-33a96650bc03",
   "metadata": {},
   "source": [
    "The figsize in R is specified in inches, 1 inch = 2.54 cm."
   ]
  },
  {
   "cell_type": "code",
   "execution_count": null,
   "id": "786327f1-a86c-43d4-b5df-3e704a0dd818",
   "metadata": {},
   "outputs": [],
   "source": [
    "set_figsize <- function(width, height){\n",
    "    options(repr.plot.width = width, \n",
    "            repr.plot.height = height)\n",
    "}"
   ]
  },
  {
   "cell_type": "markdown",
   "id": "8efb5099-49e7-4f2e-92f1-e17ac0e0f3a4",
   "metadata": {},
   "source": [
    "# Load in the data"
   ]
  },
  {
   "cell_type": "code",
   "execution_count": null,
   "id": "057f1cf6-d670-4756-a673-78c3abb63238",
   "metadata": {},
   "outputs": [],
   "source": [
    "#load in the data, explore the structure\n",
    "\n",
    "load('pathway/dataset_sc_Steidl/EGAF00004049210/HL_merged_sc_obj/HL_merged_sc_obj.Rdata')"
   ]
  },
  {
   "cell_type": "markdown",
   "id": "61f84398-5aae-41c2-8406-f32b181bb1f1",
   "metadata": {},
   "source": [
    "# Create Seurat object"
   ]
  },
  {
   "cell_type": "code",
   "execution_count": null,
   "id": "dc7f37e8-e62e-4f1e-a43b-41205a8e8aab",
   "metadata": {},
   "outputs": [],
   "source": [
    "obj <- as.Seurat(sc.obj, counts = 'counts')"
   ]
  },
  {
   "cell_type": "code",
   "execution_count": null,
   "id": "a5e63267-4be0-47ab-a3b8-ce7e0dd024c9",
   "metadata": {},
   "outputs": [],
   "source": [
    "obj <- RenameAssays(obj, originalexp = 'RNA')"
   ]
  },
  {
   "cell_type": "code",
   "execution_count": null,
   "id": "02ae89e9-633b-4316-8a80-be73a845d370",
   "metadata": {},
   "outputs": [],
   "source": [
    "obj <- DietSeurat(obj, assays = 'RNA', counts = TRUE, scale.data = FALSE, dimreducs = NULL, graphs = NULL)"
   ]
  },
  {
   "cell_type": "code",
   "execution_count": null,
   "id": "3024cef4-2581-453d-a73a-481011137036",
   "metadata": {},
   "outputs": [],
   "source": [
    "obj"
   ]
  },
  {
   "cell_type": "markdown",
   "id": "c889c174-f25d-4139-abfc-1f01e9240480",
   "metadata": {},
   "source": [
    "## QC"
   ]
  },
  {
   "cell_type": "code",
   "execution_count": null,
   "id": "1cbebde1-21eb-43a1-9f26-6559eee65f3e",
   "metadata": {},
   "outputs": [],
   "source": [
    "# The number of features and UMIs (nFeature_RNA and nCount_RNA) are automatically calculated for every object by Seurat.\n",
    "# For non-UMI data, nCount_RNA represents the sum of the non-normalized values within a cell\n",
    "# We calculate the percentage of mitochondrial features here and store it in object metadata as `percent.mito`.\n",
    "# We use raw count data since this represents non-transformed and non-log-normalized counts\n",
    "# The % of UMI mapping to MT-features is a common scRNA-seq QC metric.\n",
    "mito.features <- grep(pattern = \"^MT-\", x = rownames(x = obj), value = TRUE)\n",
    "percent.mito <- Matrix::colSums(x = GetAssayData(object = obj, slot = 'counts')[mito.features, ]) / Matrix::colSums(x = GetAssayData(object = obj, slot = 'counts'))"
   ]
  },
  {
   "cell_type": "code",
   "execution_count": null,
   "id": "cd11d4ec-81f2-4cc4-8ce2-4746c5902af5",
   "metadata": {
    "collapsed": true,
    "jupyter": {
     "outputs_hidden": true
    },
    "tags": []
   },
   "outputs": [],
   "source": [
    "# The [[ operator can add columns to object metadata, and is a great place to stash QC stats\n",
    "obj[['percent.mito']] <- percent.mito\n",
    "plot <- VlnPlot(object = obj, features = c(\"nFeature_RNA\"), ncol = 3, pt.size = 0.000001)\n",
    "l1 <- plot$layers[[1]]\n",
    "l2 <- plot$layers[[2]]\n",
    "\n",
    "plot$layers[[1]] <- l2\n",
    "plot$layers[[2]] <- l1\n",
    "\n",
    "plot\n",
    "\n",
    "plot <- VlnPlot(object = obj, features = c(\"nCount_RNA\"), ncol = 3, pt.size = 0.000001)\n",
    "l1 <- plot$layers[[1]]\n",
    "l2 <- plot$layers[[2]]\n",
    "\n",
    "plot$layers[[1]] <- l2\n",
    "plot$layers[[2]] <- l1\n",
    "\n",
    "plot\n",
    "\n",
    "plot <- VlnPlot(object = obj, features = c(\"percent.mito\"), ncol = 3, pt.size = 0.000001)\n",
    "l1 <- plot$layers[[1]]\n",
    "l2 <- plot$layers[[2]]\n",
    "\n",
    "plot$layers[[1]] <- l2\n",
    "plot$layers[[2]] <- l1\n",
    "\n",
    "plot"
   ]
  },
  {
   "cell_type": "markdown",
   "id": "bd3dbdba-010a-423c-97a7-564dda258a8b",
   "metadata": {},
   "source": [
    "# Integration"
   ]
  },
  {
   "cell_type": "code",
   "execution_count": null,
   "id": "b01977ec-e179-4df7-aa17-0d8f448ebd19",
   "metadata": {},
   "outputs": [],
   "source": [
    "obj@meta.data$sample <- obj@meta.data$dataset\n",
    "unique(obj$sample)"
   ]
  },
  {
   "cell_type": "code",
   "execution_count": null,
   "id": "a4f4f398-3891-40c6-99a7-f7b085a4679d",
   "metadata": {
    "tags": []
   },
   "outputs": [],
   "source": [
    "Sys.time()\n",
    "obj.list <- SplitObject(obj, split.by = \"sample\")"
   ]
  },
  {
   "cell_type": "code",
   "execution_count": null,
   "id": "5fadafe1-2f3d-455b-9f79-ad39d434bb5d",
   "metadata": {},
   "outputs": [],
   "source": [
    "markers.remove <- grep(pattern = c(\"^TRAV|^TRBV|^TRGV|^TRDV|^IGKV|^IGLV|^IGHV|^IGHG|^IGK\"),  x = rownames(x = obj), value = TRUE)"
   ]
  },
  {
   "cell_type": "code",
   "execution_count": null,
   "id": "98d473fc-9ff5-4910-8e58-d78be2f60e3a",
   "metadata": {
    "tags": []
   },
   "outputs": [],
   "source": [
    "obj.list <- lapply(X = obj.list, FUN = function(x) {\n",
    "    x <- NormalizeData(x)\n",
    "    x <- FindVariableFeatures(x, selection.method = \"vst\", nfeatures = 3000)\n",
    "})\n",
    "\n",
    "for (i in 1:length(obj.list)){\n",
    "     VariableFeatures(obj.list[[i]]) <- VariableFeatures(object = obj.list[[i]])[!(VariableFeatures(object = obj.list[[i]])%in%markers.remove)]\n",
    "}\n",
    "Sys.time()"
   ]
  },
  {
   "cell_type": "code",
   "execution_count": null,
   "id": "77342b7c-18ee-48e6-92a8-ff59c356f85e",
   "metadata": {
    "tags": []
   },
   "outputs": [],
   "source": [
    "features <- SelectIntegrationFeatures(object.list = obj.list, nfeatures = 2500)"
   ]
  },
  {
   "cell_type": "code",
   "execution_count": null,
   "id": "f9187776-ecf8-4ada-819a-25d72f842b80",
   "metadata": {},
   "outputs": [],
   "source": [
    "Sys.time()"
   ]
  },
  {
   "cell_type": "code",
   "execution_count": null,
   "id": "55be2d63-6756-49ba-8fbf-2ac165c7cfe6",
   "metadata": {},
   "outputs": [],
   "source": [
    "obj.list <- lapply(X = obj.list, FUN = function(x) {\n",
    "    x <- ScaleData(x, features = features, verbose = FALSE)\n",
    "    x <- RunPCA(x, features = features, verbose = FALSE)\n",
    "})\n",
    "Sys.time()"
   ]
  },
  {
   "cell_type": "code",
   "execution_count": null,
   "id": "d46f0964-fa9c-4ce8-9c5f-59d905577c82",
   "metadata": {
    "collapsed": true,
    "jupyter": {
     "outputs_hidden": true
    },
    "tags": []
   },
   "outputs": [],
   "source": [
    "obj.anchors <- FindIntegrationAnchors(object.list = obj.list, anchor.features = features, reduction = \"rpca\")\n",
    "Sys.time()"
   ]
  },
  {
   "cell_type": "code",
   "execution_count": null,
   "id": "4e1207e1-fda0-4268-8e21-62b0c0f24b1c",
   "metadata": {
    "collapsed": true,
    "jupyter": {
     "outputs_hidden": true
    },
    "tags": []
   },
   "outputs": [],
   "source": [
    "obj.integrated <- IntegrateData(anchorset = obj.anchors)\n",
    "Sys.time()"
   ]
  },
  {
   "cell_type": "code",
   "execution_count": null,
   "id": "92e5cb26-de51-4ed8-a39d-ba21a5e5bef2",
   "metadata": {},
   "outputs": [],
   "source": [
    "obj.integrated"
   ]
  },
  {
   "cell_type": "code",
   "execution_count": null,
   "id": "7a57fdef-7d14-4f76-8627-d8352ad60603",
   "metadata": {},
   "outputs": [],
   "source": [
    "saveRDS(obj.integrated, file = './obj.integrated.withoutumap.rds')"
   ]
  },
  {
   "cell_type": "markdown",
   "id": "0c2e7179-7c63-41cc-82c2-8413a65823b5",
   "metadata": {
    "tags": []
   },
   "source": [
    "# Working with integrated file"
   ]
  },
  {
   "cell_type": "code",
   "execution_count": null,
   "id": "de41399d-d13d-46f6-ae61-86adebda667b",
   "metadata": {},
   "outputs": [],
   "source": [
    "obj.integrated <- ScaleData(obj.integrated, features = VariableFeatures(object = obj.integrated), vars.to.regress = c(\"nCount_RNA\", \"percent.mito\"))\n",
    "obj.integrated <- RunPCA(obj.integrated, features = VariableFeatures(object = obj.integrated))"
   ]
  },
  {
   "cell_type": "code",
   "execution_count": null,
   "id": "a2450881-f297-4c4f-b78d-9517704103e1",
   "metadata": {},
   "outputs": [],
   "source": [
    "default_width <- 11\n",
    "set_figsize(default_width, default_width)"
   ]
  },
  {
   "cell_type": "code",
   "execution_count": null,
   "id": "7a4fbb6d-01b1-4fde-9be7-f918b93a9cb2",
   "metadata": {},
   "outputs": [],
   "source": [
    "Idents(obj.integrated) <- 'sample'\n",
    "DimPlot(obj.integrated, reduction = 'pca', label = TRUE)"
   ]
  },
  {
   "cell_type": "code",
   "execution_count": null,
   "id": "f8a2a5c2-047b-40c9-8a0b-86b6680e0567",
   "metadata": {},
   "outputs": [],
   "source": [
    "Idents(obj.integrated) <- 'sample'\n",
    "VlnPlot(obj.integrated, \"ACTB\", pt.size = 0)"
   ]
  },
  {
   "cell_type": "code",
   "execution_count": null,
   "id": "e704b7b0-711b-42f5-9ffe-67580c5f4475",
   "metadata": {},
   "outputs": [],
   "source": [
    "# ProjectDim scores each feature in the dataset (including features not included in the PCA) based on their correlation \n",
    "# with the calculated components. Though we don't use this further here, it can be used to identify markers that \n",
    "# are strongly correlated with cellular heterogeneity, but may not have passed through variable feature selection. \n",
    "# The results of the projected PCA can be explored by setting `projected = TRUE`in the functions above\n",
    "obj.integrated <- ProjectDim(object = obj.integrated)"
   ]
  },
  {
   "cell_type": "code",
   "execution_count": null,
   "id": "84d8d853-af36-477c-9b4f-12fcc2abcffb",
   "metadata": {},
   "outputs": [],
   "source": [
    "ElbowPlot(object = obj.integrated, ndims = 50)"
   ]
  },
  {
   "cell_type": "code",
   "execution_count": null,
   "id": "5e020d26-bcfb-4940-81ad-b0fd4de4d88b",
   "metadata": {
    "collapsed": true,
    "jupyter": {
     "outputs_hidden": true
    },
    "tags": []
   },
   "outputs": [],
   "source": [
    "DimHeatmap(object = obj.integrated, dims = 1, cells = 500, balanced = TRUE)\n",
    "DimHeatmap(object = obj.integrated, dims = 2, cells = 500, balanced = TRUE)\n",
    "DimHeatmap(object = obj.integrated, dims = 3, cells = 500, balanced = TRUE)\n",
    "DimHeatmap(object = obj.integrated, dims = 4, cells = 500, balanced = TRUE)\n",
    "DimHeatmap(object = obj.integrated, dims = 5, cells = 500, balanced = TRUE)\n",
    "DimHeatmap(object = obj.integrated, dims = 6, cells = 500, balanced = TRUE)\n",
    "DimHeatmap(object = obj.integrated, dims = 7, cells = 500, balanced = TRUE)\n",
    "DimHeatmap(object = obj.integrated, dims = 8, cells = 500, balanced = TRUE)\n",
    "DimHeatmap(object = obj.integrated, dims = 9, cells = 500, balanced = TRUE)\n",
    "DimHeatmap(object = obj.integrated, dims = 10, cells = 500, balanced = TRUE)\n",
    "DimHeatmap(object = obj.integrated, dims = 11, cells = 500, balanced = TRUE)\n",
    "DimHeatmap(object = obj.integrated, dims = 12, cells = 500, balanced = TRUE)\n",
    "DimHeatmap(object = obj.integrated, dims = 13, cells = 500, balanced = TRUE)\n",
    "DimHeatmap(object = obj.integrated, dims = 14, cells = 500, balanced = TRUE)\n",
    "DimHeatmap(object = obj.integrated, dims = 15, cells = 500, balanced = TRUE)\n",
    "DimHeatmap(object = obj.integrated, dims = 16, cells = 500, balanced = TRUE)\n",
    "DimHeatmap(object = obj.integrated, dims = 17, cells = 500, balanced = TRUE)\n",
    "DimHeatmap(object = obj.integrated, dims = 18, cells = 500, balanced = TRUE)\n",
    "DimHeatmap(object = obj.integrated, dims = 19, cells = 500, balanced = TRUE)\n",
    "DimHeatmap(object = obj.integrated, dims = 20, cells = 500, balanced = TRUE)"
   ]
  },
  {
   "cell_type": "markdown",
   "id": "8a632def-841a-431c-83c3-499cfd2bfbea",
   "metadata": {},
   "source": [
    "# Cluster the cells"
   ]
  },
  {
   "cell_type": "code",
   "execution_count": null,
   "id": "09f560b7-e2b3-4495-a661-bac60394e06d",
   "metadata": {},
   "outputs": [],
   "source": [
    "dim_number <- 30"
   ]
  },
  {
   "cell_type": "code",
   "execution_count": null,
   "id": "acde4573-4d57-40ca-a4fb-eea6e598a63d",
   "metadata": {},
   "outputs": [],
   "source": [
    "obj.integrated <- FindNeighbors(object = obj.integrated, dims = 1:dim_number)"
   ]
  },
  {
   "cell_type": "code",
   "execution_count": null,
   "id": "51b2e761-f8c6-4925-a4b7-30bd87dc95a6",
   "metadata": {},
   "outputs": [],
   "source": [
    "res <- 0.8"
   ]
  },
  {
   "cell_type": "code",
   "execution_count": null,
   "id": "7900cfe5-0542-41c7-bbeb-e2100c0f3953",
   "metadata": {},
   "outputs": [],
   "source": [
    "obj.integrated <- FindClusters(object = obj.integrated, resolution = res)"
   ]
  },
  {
   "cell_type": "markdown",
   "id": "91d8f270-be1f-47e4-8dca-81bc620609b1",
   "metadata": {},
   "source": [
    "# Run Non-linear dimensional reduction (UMAP)"
   ]
  },
  {
   "cell_type": "code",
   "execution_count": null,
   "id": "3065ef56-d7ef-425f-8249-a29c3b0e81e4",
   "metadata": {
    "collapsed": true,
    "jupyter": {
     "outputs_hidden": true
    },
    "tags": []
   },
   "outputs": [],
   "source": [
    "obj.integrated <- RunUMAP(obj.integrated, dims = 1:dim_number)"
   ]
  },
  {
   "cell_type": "code",
   "execution_count": null,
   "id": "5c119c63-e1b5-4f13-8c32-76a3e6cac556",
   "metadata": {},
   "outputs": [],
   "source": [
    "obj <- obj.integrated"
   ]
  },
  {
   "cell_type": "markdown",
   "id": "29c3e77d-8a78-4e8d-860e-6eb633f99c40",
   "metadata": {
    "tags": []
   },
   "source": [
    "## Sample Effect, Chip, Old clusters"
   ]
  },
  {
   "cell_type": "code",
   "execution_count": null,
   "id": "980e0f83-24fe-49c4-9294-d7171620b1c6",
   "metadata": {},
   "outputs": [],
   "source": [
    "default_width <- 12"
   ]
  },
  {
   "cell_type": "code",
   "execution_count": null,
   "id": "83440dcb-b241-404f-8457-7e81073ec3f1",
   "metadata": {},
   "outputs": [],
   "source": [
    "set_figsize(default_width, default_width)\n",
    "fig(DimPlot(obj, group.by=\"sample\", label = T), \n",
    "    \"UMAP_Sample\")"
   ]
  },
  {
   "cell_type": "code",
   "execution_count": null,
   "id": "1d7e672f-e30e-4b3e-901f-60a6be893b71",
   "metadata": {},
   "outputs": [],
   "source": [
    "set_figsize(default_width, default_width)\n",
    "fig(DimPlot(obj, group.by=\"Chip\", label = T), \n",
    "    \"UMAP_Chip\")"
   ]
  },
  {
   "cell_type": "code",
   "execution_count": null,
   "id": "e0065179-03e2-4c0d-966e-098117f36e50",
   "metadata": {
    "tags": []
   },
   "outputs": [],
   "source": [
    "set_figsize(default_width, default_width)\n",
    "fig(DimPlot(obj, group.by=\"cluster_name\", label = T), \n",
    "    \"UMAP_oldclusters\")"
   ]
  },
  {
   "cell_type": "code",
   "execution_count": null,
   "id": "1d325fcb-3264-496f-a3c1-ffd31e9fcf6c",
   "metadata": {},
   "outputs": [],
   "source": [
    "set_figsize(default_width,default_width)\n",
    "fig(DimPlot(obj, reduction = \"umap\", label=TRUE, label.size=6, group.by=\"seurat_clusters\"), \n",
    "    \"Cluster_UMAP\")"
   ]
  },
  {
   "cell_type": "markdown",
   "id": "e2d77cac-9e20-4a8b-b651-f0cd0749d5ea",
   "metadata": {},
   "source": [
    "## Cell Cycle"
   ]
  },
  {
   "cell_type": "code",
   "execution_count": null,
   "id": "3d6891fc-6294-4e63-8066-5af4dfb63255",
   "metadata": {},
   "outputs": [],
   "source": [
    "obj <- CellCycleScoring(obj, s.features = s.genes, g2m.features = g2m.genes, set.ident = TRUE)"
   ]
  },
  {
   "cell_type": "code",
   "execution_count": null,
   "id": "828f50d4-d9b8-43d8-a84b-5de4a9db641a",
   "metadata": {},
   "outputs": [],
   "source": [
    "set_figsize(default_width, default_width)\n",
    "fig(DimPlot(obj, group.by=\"Phase\"), \n",
    "    \"UMAP_Cellcycle\")"
   ]
  },
  {
   "cell_type": "markdown",
   "id": "5858c2bf-5e95-4e8f-a11c-c2d0eba83ce3",
   "metadata": {},
   "source": [
    "## Cluster QC-Metrics"
   ]
  },
  {
   "cell_type": "code",
   "execution_count": null,
   "id": "a84c7078-971a-442e-a079-2c3ed112d2af",
   "metadata": {},
   "outputs": [],
   "source": [
    "default_width <- 8"
   ]
  },
  {
   "cell_type": "code",
   "execution_count": null,
   "id": "01bad11a-bf49-44b0-bdf3-899e40eb47de",
   "metadata": {},
   "outputs": [],
   "source": [
    "set_figsize(default_width,3*default_width)\n",
    "fig(VlnPlot(obj, c(\"nFeature_RNA\", \"nCount_RNA\", \"percent.mito\"), ncol=1, group.by=\"seurat_clusters\", pt.size=0), \n",
    "    \"Cluster_QC\")"
   ]
  },
  {
   "cell_type": "markdown",
   "id": "60297046-83c9-4769-88a3-e0546548a4fa",
   "metadata": {},
   "source": [
    "### Cluster Cell Cyle"
   ]
  },
  {
   "cell_type": "code",
   "execution_count": null,
   "id": "528eef3b-5082-42e4-94f1-b798b46063a5",
   "metadata": {},
   "outputs": [],
   "source": [
    "set_figsize(default_width, default_width)\n",
    "ggplot(obj@meta.data, aes_string(x=\"seurat_clusters\", fill=\"Phase\")) +\n",
    "    geom_bar(position=\"fill\")"
   ]
  },
  {
   "cell_type": "markdown",
   "id": "b154bacc-faaf-4518-afa0-5307bc213abe",
   "metadata": {},
   "source": [
    "### Sample Proportions of Each Cluster"
   ]
  },
  {
   "cell_type": "code",
   "execution_count": null,
   "id": "67547df8-1451-4513-b46b-e2f3fbe2f9ca",
   "metadata": {},
   "outputs": [],
   "source": [
    "set_figsize(2*default_width, default_width)\n",
    "fig(((ggplot(obj@meta.data, aes_string(x=\"seurat_clusters\", fill=\"sample\")) +\n",
    "    geom_bar(position=\"stack\") + \n",
    "    theme(axis.text.x = element_text(angle = 90, vjust = 0.5, hjust=1))) +\n",
    "    ggtitle(\"Absolute\") +\n",
    "(ggplot(obj@meta.data, aes_string(x=\"seurat_clusters\", fill=\"sample\")) +\n",
    "    geom_bar(position=\"fill\") + \n",
    "    theme(axis.text.x = element_text(angle = 90, vjust = 0.5, hjust=1),\n",
    "         panel.grid.major = element_blank(), panel.grid.minor = element_blank(),\n",
    "        panel.background = element_blank(), axis.line = element_line(colour = \"black\")) +\n",
    "    ggtitle(\"Relative\"))), \n",
    "    \"Cluster_Sample_Proportion\")"
   ]
  },
  {
   "cell_type": "code",
   "execution_count": null,
   "id": "6ab82306-0603-4016-9653-3d8e4874daa2",
   "metadata": {},
   "outputs": [],
   "source": [
    "set_figsize(1.5*default_width, default_width)\n",
    "\n",
    "df <- obj@meta.data\n",
    "df$clusters <- df$seurat_clusters\n",
    "clusters <- unique(df$clusters)\n",
    "dis_state <- 'HL'\n",
    "df$dis <- df$Type\n",
    "df$dis <- factor(df$dis, levels = c('RLN', 'HL'))\n",
    "\n",
    "#determine where are the most cells from HL\n",
    "order_df <- data.frame(matrix(NA, ncol = 2, nrow = length(clusters)))\n",
    "colnames(order_df) <- c('cluster', 'dis')\n",
    "order_df$cluster <- clusters\n",
    "for(i in 1:nrow(order_df)){\n",
    "    order_df$dis[i] <- nrow(filter(df, dis == dis_state & clusters == order_df$cluster[i])) / nrow(filter(df, clusters == order_df$cluster[i]))\n",
    "}\n",
    "\n",
    "order_df <- order_df[order(order_df$dis), ]\n",
    "order_list <- order_df$cluster\n",
    "\n",
    "#order the clusters in the df \n",
    "df$clusters <- factor(df$clusters, levels = order_list)\n",
    "\n",
    "#plot the type of disease state\n",
    "ggplot(df, aes_string(x=\"clusters\", fill=\"dis\")) +\n",
    "    geom_bar(position=\"fill\") + \n",
    "    theme(\n",
    "        plot.title = element_text(hjust = 0.45),\n",
    "        text = element_text(size=25),\n",
    "        panel.grid.major = element_blank(), panel.grid.minor = element_blank(),\n",
    "        panel.background = element_blank(), axis.line = element_line(colour = \"black\"),\n",
    "        axis.text.x = element_text(angle = 55, vjust = 1, hjust=1, colour = 'black')) +\n",
    "        scale_fill_manual('legend', values = c('lightgrey', '#D3556E'))+ ylab('Fraction')+\n",
    "    ggtitle(\"Relative\")\n",
    "\n",
    "set_figsize(2*default_width, default_width)\n",
    "\n",
    "\n",
    "\n",
    "\n",
    "#plot per patient\n",
    "#determine colors\n",
    "\n",
    "\n",
    "ggplot(df, aes_string(x=\"clusters\", fill=\"sample\")) +\n",
    "    geom_bar(position=\"fill\") + \n",
    "    theme(\n",
    "        plot.title = element_text(hjust = 0.45),\n",
    "        text = element_text(size=25),\n",
    "        panel.grid.major = element_blank(), panel.grid.minor = element_blank(),\n",
    "        panel.background = element_blank(), axis.line = element_line(colour = \"black\"),\n",
    "        axis.text.x = element_text(angle = 55, vjust = 1, hjust=1, colour = 'black')) +\n",
    "        ylab('Fraction') +\n",
    "    ggtitle(\"Relative\")\n",
    "\n",
    "\n",
    "\n",
    "\n",
    "\n",
    "\n",
    "\n",
    "\n",
    "#plot per disease state\n",
    "set_figsize(1.5*default_width, default_width)\n",
    "\n",
    "#determine the order of clusters by fraction within the disease state\n",
    "#determine where are the most cells from HL\n",
    "order_df <- data.frame(matrix(NA, ncol = 2, nrow = length(clusters)))\n",
    "colnames(order_df) <- c('cluster', 'dis')\n",
    "order_df$cluster <- clusters\n",
    "for(i in 1:nrow(order_df)){\n",
    "    order_df$dis[i] <- nrow(filter(df, dis == dis_state & clusters == order_df$cluster[i])) / nrow(filter(df, dis == dis_state))\n",
    "}\n",
    "\n",
    "order_df <- order_df[order(order_df$dis), ]\n",
    "order_list <- order_df$cluster\n",
    "\n",
    "#order the clusters in the df \n",
    "df$clusters <- factor(df$clusters, levels = order_list)\n",
    "\n",
    "#determine colors\n",
    "c25 <- c(\n",
    "  \"dodgerblue2\", \"#E31A1C\", # red\n",
    "  \"green4\",\n",
    "  \"#6A3D9A\", # purple\n",
    "  \"#FF7F00\", # orange\n",
    "  \"black\", \"gold1\",\n",
    "  \"skyblue2\", \"#FB9A99\", # lt pink\n",
    "  \"palegreen2\",\n",
    "  \"#CAB2D6\", # lt purple\n",
    "  \"#FDBF6F\", # lt orange\n",
    "  \"gray70\", \"khaki2\",\n",
    "  \"maroon\", \"orchid1\", \"deeppink1\", \"blue1\", \"steelblue4\",\n",
    "  \"darkturquoise\", \"green1\", \"yellow4\", \"yellow3\",\n",
    "  \"darkorange4\", \"brown\"\n",
    ")\n",
    "cols <- c25[1:length(clusters)]\n",
    "\n",
    "\n",
    "\n",
    "ggplot(df, aes_string(x=\"dis\", fill=\"clusters\")) +\n",
    "    geom_bar(position=\"fill\") + \n",
    "    theme(\n",
    "        plot.title = element_text(hjust = 0.45),\n",
    "        text = element_text(size=25),\n",
    "        panel.grid.major = element_blank(), panel.grid.minor = element_blank(),\n",
    "        panel.background = element_blank(), axis.line = element_line(colour = \"black\"),\n",
    "        axis.text.x = element_text(angle = 55, vjust = 1, hjust=1, colour = 'black')) +\n",
    "        ylab('Fraction')+ scale_fill_manual('legend', values = cols)+\n",
    "    ggtitle(\"Relative\")"
   ]
  },
  {
   "cell_type": "markdown",
   "id": "69178c47-8de1-4ac7-ae98-1c17be60d1f9",
   "metadata": {},
   "source": [
    "### Cluster Size"
   ]
  },
  {
   "cell_type": "code",
   "execution_count": null,
   "id": "d980abd4-4766-4b32-8250-71feb0d50d57",
   "metadata": {},
   "outputs": [],
   "source": [
    "set_figsize(default_width, default_width)\n",
    "ggplot(obj@meta.data, aes_string(x=\"seurat_clusters\")) + geom_bar()"
   ]
  },
  {
   "cell_type": "code",
   "execution_count": null,
   "id": "ea246b2c-6e4f-48b3-aec8-42ff61e3c657",
   "metadata": {},
   "outputs": [],
   "source": [
    "saveRDS(obj, file = './rpca_integrated.rds')"
   ]
  },
  {
   "cell_type": "code",
   "execution_count": null,
   "id": "1fd7e876-9057-4668-ae6a-161e66dd902d",
   "metadata": {},
   "outputs": [],
   "source": [
    "obj <- readRDS(file = './rpca_integrated.rds')"
   ]
  },
  {
   "cell_type": "code",
   "execution_count": null,
   "id": "9ef5802d-899b-41ed-a3ae-4b3066c7d26f",
   "metadata": {},
   "outputs": [],
   "source": [
    "obj"
   ]
  },
  {
   "cell_type": "markdown",
   "id": "52ea70eb-8c34-42a8-98ba-ab22ca172049",
   "metadata": {
    "tags": []
   },
   "source": [
    "# Find Cluster Markers"
   ]
  },
  {
   "cell_type": "markdown",
   "id": "63e6547e-bd46-4f1c-b9b7-c82d97fa7351",
   "metadata": {
    "tags": []
   },
   "source": [
    "## Find Markers"
   ]
  },
  {
   "cell_type": "code",
   "execution_count": null,
   "id": "e0c6634f-3875-4b30-a685-4c84ad05c243",
   "metadata": {
    "collapsed": true,
    "jupyter": {
     "outputs_hidden": true
    },
    "tags": []
   },
   "outputs": [],
   "source": [
    "features_find <- rownames(obj)\n",
    "markers.remove <- grep(pattern = c(\"^TRAV|^TRBV|^TRGV|^TRDV|^IGKV|^IGLV|^IGHV|^IGHG|^IGK\"), x = rownames(obj), value = TRUE)\n",
    "features_find <- features_find[!(features_find%in%markers.remove)]\n",
    "\n",
    "markers <- FindAllMarkers(obj, \n",
    "                          min.pct = 0.1, \n",
    "                          logfc.threshold = 0.2, \n",
    "                          only.pos = TRUE, \n",
    "                          verbose = verbose,\n",
    "                          features = features_find)"
   ]
  },
  {
   "cell_type": "code",
   "execution_count": null,
   "id": "e17f93fe-fb35-4aa4-909e-e25431e77690",
   "metadata": {},
   "outputs": [],
   "source": [
    "write.csv(markers, file = './first_markers_unsorted_rpca.csv')"
   ]
  },
  {
   "cell_type": "code",
   "execution_count": null,
   "id": "31d9667b-9d46-4536-82f5-c149d7b404cb",
   "metadata": {},
   "outputs": [],
   "source": [
    "markers <- read.csv(file = './first_markers_unsorted_rpca.csv', row.names = 1)"
   ]
  },
  {
   "cell_type": "markdown",
   "id": "f7099cf8-174e-4a02-8022-daf3e644524e",
   "metadata": {},
   "source": [
    "Sort the markers:"
   ]
  },
  {
   "cell_type": "code",
   "execution_count": null,
   "id": "fa408f23-f703-4922-baa5-ceaba241c7ec",
   "metadata": {},
   "outputs": [],
   "source": [
    "top_number <- 100\n",
    "sorted.markers <- markers %>% \n",
    "                    group_by(cluster) %>% \n",
    "                    arrange(cluster, desc(avg_log2FC)) %>% \n",
    "                    slice_head(n=top_number)\n",
    "sorted.markers <- sorted.markers[sorted.markers$p_val_adj < 0.05, ]"
   ]
  },
  {
   "cell_type": "code",
   "execution_count": null,
   "id": "1fb87fd2-cada-46e0-bb19-5932bee80a3f",
   "metadata": {},
   "outputs": [],
   "source": [
    "sorted.markers.anno <- sorted.markers"
   ]
  },
  {
   "cell_type": "markdown",
   "id": "b99574f9-68a5-4f57-8891-3cccfd3345a8",
   "metadata": {},
   "source": [
    "## Annotate Markers"
   ]
  },
  {
   "cell_type": "code",
   "execution_count": null,
   "id": "30cdb7f2-bbd7-4100-823b-04f78e6274f2",
   "metadata": {},
   "outputs": [],
   "source": [
    "library(annotables, quietly=TRUE)"
   ]
  },
  {
   "cell_type": "code",
   "execution_count": null,
   "id": "16d9dee0-13c7-4951-90a5-68fdaa2674d7",
   "metadata": {},
   "outputs": [],
   "source": [
    "ref <- grch38[c('symbol', 'description', 'biotype')]\n",
    "ref <- distinct(ref, symbol, .keep_all=T)\n",
    "sorted.markers.anno <- left_join(sorted.markers, ref, by=c('gene'='symbol'))"
   ]
  },
  {
   "cell_type": "code",
   "execution_count": null,
   "id": "8cb9621a-7805-48fc-a2cc-7c9a044d91f6",
   "metadata": {},
   "outputs": [],
   "source": [
    "write.csv(sorted.markers.anno, file = './first_markers_annotated_rpca.csv')"
   ]
  },
  {
   "cell_type": "markdown",
   "id": "5cee2266-7485-409b-b2bc-ce0f02508e4d",
   "metadata": {},
   "source": [
    "## Marker Heatmap and Dotplot"
   ]
  },
  {
   "cell_type": "code",
   "execution_count": null,
   "id": "417411f8-7e16-4030-b362-3bb6e8572c6e",
   "metadata": {
    "tags": []
   },
   "outputs": [],
   "source": [
    "set_figsize(1.5*default_width,1.5*default_width)\n",
    "\n",
    "#determine the number of genes to plot\n",
    "top_number <- 5\n",
    "markers_plot <- markers %>% \n",
    "                    group_by(cluster) %>% \n",
    "                    arrange(cluster, desc(avg_log2FC)) %>% \n",
    "                    slice_head(n=top_number)\n",
    "markers_plot <- markers_plot[markers_plot$p_val_adj < 0.05, ]\n",
    "\n",
    "\n",
    "obj_plot <- obj\n",
    "levels(obj_plot) <- rev(levels(obj))\n",
    "obj.average <- AverageExpression(obj_plot, assay = \"RNA\", return.seurat = TRUE)\n",
    "\n",
    "width <- 10.5\n",
    "height <- 26\n",
    "\n",
    "#plot the heatmap\n",
    "options(repr.plot.width = width, repr.plot.height = height)\n",
    "hm <- DoHeatmap(obj.average, features = markers_plot$gene, draw.lines = FALSE,size = 8, angle = 270, hjust = 1, raster = FALSE) +  \n",
    "theme(text = element_text(size = 20, face = \"plain\", colour = 'black'),\n",
    "             axis.text.y=element_text(colour=\"black\", size = 18)) + \n",
    "        scale_fill_gradientn(colors = c(\"#2881C1\", \"white\", \"#D3556E\"))\n",
    "#ggsave(hm, file = './outs/heatmap_clusters.pdf', width = width, height = height)\n",
    "hm"
   ]
  },
  {
   "cell_type": "code",
   "execution_count": null,
   "id": "b66feed7-5811-4174-b1a0-425727d64206",
   "metadata": {
    "tags": []
   },
   "outputs": [],
   "source": [
    "#plot the dotplot\n",
    "width <- 30\n",
    "height <- 8\n",
    "options(repr.plot.width = width, repr.plot.height = height)\n",
    "\n",
    "\n",
    "plot <- DotPlot(obj_plot, features = unique(markers_plot$gene), dot.scale = 7, cols = c('white', '#D3556E')) + RotatedAxis() +\n",
    "        theme(\n",
    "        text = element_text(size = 15),\n",
    "        axis.text = element_text(size = 15),\n",
    "        legend.text=element_text(size = 15))\n",
    "plot\n",
    "#ggsave(plot, file = './outs/dotplot_clusters.pdf', width = width, height = height)"
   ]
  },
  {
   "cell_type": "markdown",
   "id": "71cde5f0-06ad-4d7b-9c4b-55aaa90e2058",
   "metadata": {},
   "source": [
    "# Rename cluster idents"
   ]
  },
  {
   "cell_type": "code",
   "execution_count": null,
   "id": "af4e7d31-d629-4ada-97e4-938c61dd7792",
   "metadata": {},
   "outputs": [],
   "source": [
    "#new names:\n",
    "obj@meta.data$clusters_all <- 'FALSE'\n",
    "\n",
    "obj@meta.data$clusters_all[obj@meta.data$seurat_clusters == 0] <- 'Tn_1'\n",
    "obj@meta.data$clusters_all[obj@meta.data$seurat_clusters == 1] <- 'B_2'\n",
    "obj@meta.data$clusters_all[obj@meta.data$seurat_clusters == 2] <- 'CD4m_1'\n",
    "obj@meta.data$clusters_all[obj@meta.data$seurat_clusters == 3] <- 'B_m'\n",
    "obj@meta.data$clusters_all[obj@meta.data$seurat_clusters == 4] <- 'Treg_3'\n",
    "obj@meta.data$clusters_all[obj@meta.data$seurat_clusters == 5] <- 'Tn_2'\n",
    "obj@meta.data$clusters_all[obj@meta.data$seurat_clusters == 6] <- 'B_3'\n",
    "obj@meta.data$clusters_all[obj@meta.data$seurat_clusters == 7] <- 'CD4m_2'\n",
    "obj@meta.data$clusters_all[obj@meta.data$seurat_clusters == 8] <- 'CD8m_1'\n",
    "obj@meta.data$clusters_all[obj@meta.data$seurat_clusters == 9] <- 'CD8m_2'\n",
    "obj@meta.data$clusters_all[obj@meta.data$seurat_clusters == 10] <- 'Treg_4'\n",
    "obj@meta.data$clusters_all[obj@meta.data$seurat_clusters == 11] <- 'B_1'\n",
    "obj@meta.data$clusters_all[obj@meta.data$seurat_clusters == 12] <- 'Treg_1'\n",
    "obj@meta.data$clusters_all[obj@meta.data$seurat_clusters == 13] <- 'B_ifn'\n",
    "obj@meta.data$clusters_all[obj@meta.data$seurat_clusters == 14] <- 'T_exh_1'\n",
    "obj@meta.data$clusters_all[obj@meta.data$seurat_clusters == 15] <- 'Treg_2'\n",
    "obj@meta.data$clusters_all[obj@meta.data$seurat_clusters == 16] <- 'T_ifn'\n",
    "obj@meta.data$clusters_all[obj@meta.data$seurat_clusters == 17] <- 'Proliferative'\n",
    "obj@meta.data$clusters_all[obj@meta.data$seurat_clusters == 18] <- 'NK-T'\n",
    "obj@meta.data$clusters_all[obj@meta.data$seurat_clusters == 19] <- 'GCB'\n",
    "obj@meta.data$clusters_all[obj@meta.data$seurat_clusters == 20] <- 'B_4'\n",
    "obj@meta.data$clusters_all[obj@meta.data$seurat_clusters == 21] <- 'T_exh_2'\n",
    "obj@meta.data$clusters_all[obj@meta.data$seurat_clusters == 22] <- 'pDC'\n",
    "obj@meta.data$clusters_all[obj@meta.data$seurat_clusters == 23] <- 'Macrophage'\n",
    "obj@meta.data$clusters_all[obj@meta.data$seurat_clusters == 24] <- 'Plasma'\n",
    "obj@meta.data$clusters_all[obj@meta.data$seurat_clusters == 25] <- 'B_m'"
   ]
  },
  {
   "cell_type": "code",
   "execution_count": null,
   "id": "8ea6ff8c-0e22-4bdd-9bed-ce9c99baaff0",
   "metadata": {
    "tags": []
   },
   "outputs": [],
   "source": [
    "Idents(obj) <- 'clusters_all'\n",
    "\n",
    "levels(obj) <- c('B_1', 'B_2', 'B_3', 'B_4', 'B_ifn', 'B_m', 'GCB', 'Plasma',\n",
    "                'pDC', 'Macrophage', \n",
    "                'Tn_1', 'Tn_2', 'CD4m_1', 'CD4m_2', 'Treg_1','Treg_2', 'Treg_3', 'Treg_4',\n",
    "                 'T_ifn',\n",
    "                 'CD8m_1', 'CD8m_2', 'T_exh_1', 'T_exh_2', 'NK-T', 'Proliferative')"
   ]
  },
  {
   "cell_type": "code",
   "execution_count": null,
   "id": "44dbc021-0f12-47ad-be9b-bd2d41c6279a",
   "metadata": {
    "tags": []
   },
   "outputs": [],
   "source": [
    "set_figsize(13,10)\n",
    "fig(DimPlot(obj, reduction = \"umap\", label=TRUE, label.size=6), \n",
    "    \"Cluster_UMAP\")"
   ]
  },
  {
   "cell_type": "code",
   "execution_count": null,
   "id": "1a58698c-91f5-497c-a546-2b38908f5d09",
   "metadata": {},
   "outputs": [],
   "source": [
    "saveRDS(obj, file = './rpca_integrated.rds')"
   ]
  },
  {
   "cell_type": "code",
   "execution_count": null,
   "id": "f780e6f5-f780-424e-9b2f-25ec8bd5bbb2",
   "metadata": {},
   "outputs": [],
   "source": []
  }
 ],
 "metadata": {
  "kernelspec": {
   "display_name": "R 4.0.5 azimuth env",
   "language": "R",
   "name": "ir405"
  },
  "language_info": {
   "codemirror_mode": "r",
   "file_extension": ".r",
   "mimetype": "text/x-r-source",
   "name": "R",
   "pygments_lexer": "r",
   "version": "4.0.5"
  }
 },
 "nbformat": 4,
 "nbformat_minor": 5
}
